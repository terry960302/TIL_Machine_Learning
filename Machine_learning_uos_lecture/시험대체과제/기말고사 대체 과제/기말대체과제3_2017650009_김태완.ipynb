{
 "cells": [
  {
   "cell_type": "markdown",
   "metadata": {},
   "source": [
    "# 패키지 설치"
   ]
  },
  {
   "cell_type": "code",
   "execution_count": 2,
   "metadata": {},
   "outputs": [],
   "source": [
    "import sys\n",
    "import gzip\n",
    "import shutil\n",
    "import os\n",
    "import struct\n",
    "import numpy as np\n",
    "import matplotlib.pyplot as plt"
   ]
  },
  {
   "cell_type": "markdown",
   "metadata": {},
   "source": [
    "# 손글씨 숫자 분류하기"
   ]
  },
  {
   "cell_type": "markdown",
   "metadata": {},
   "source": [
    "\n",
    "## MNIST 데이터셋 구하기"
   ]
  },
  {
   "cell_type": "code",
   "execution_count": 3,
   "metadata": {},
   "outputs": [],
   "source": [
    "# 데이터셋 .gz 확장자 파일 3개 압축 푸는 코드\n",
    "\n",
    "if (sys.version_info > (3, 0)): # 압축을 풀어서 현재 폴더에 파일을 write(쓰기)해야하므로 어떤 작성모드인지 지원하는 시스템 버전에 따라 바꿈.\n",
    "    writemode = 'wb'\n",
    "else:\n",
    "    writemode = 'w'\n",
    "\n",
    "zipped_mnist = [f for f in os.listdir('./') if f.endswith('ubyte.gz')] # 현재 폴더에 위치한 gz 확장자 알집을 가져옴.\n",
    "\n",
    "for z in zipped_mnist: # 가져온 알집에 각각 압축 푸는 시행을 해줌\n",
    "    with gzip.GzipFile(z, mode='rb') as decompressed, open(z[:-3], writemode) as outfile:\n",
    "        outfile.write(decompressed.read()) # 한번 시행하면 현재 폴더에 압축 해제된 파일이 생성됨"
   ]
  },
  {
   "cell_type": "code",
   "execution_count": 4,
   "metadata": {},
   "outputs": [],
   "source": [
    "# 현재 폴더에 있는 압축 푼 파일의 데이터를 가져오는 함수\n",
    "\n",
    "def load_mnist(path, kind='train'): # path에 현재 폴더 경로를 넣으면 됨\n",
    "\n",
    "    labels_path = os.path.join(path, \n",
    "                               '%s-labels-idx1-ubyte' % kind) # 해당 경로에 있는 파일 이름 경로 전체를 만들어줌\n",
    "    images_path = os.path.join(path, \n",
    "                               '%s-images-idx3-ubyte' % kind)\n",
    "        \n",
    "    with open(labels_path, 'rb') as lbpath: # 해당 label파일 데이터를 가져옴\n",
    "        magic, n = struct.unpack('>II', \n",
    "                                 lbpath.read(8)) # byte buffer파일은 바로 읽을 수 없으므로 >II 표기를 이용해서 우리가 알아볼 수 있는 글자(정수)로 변환\n",
    "        labels = np.fromfile(lbpath, \n",
    "                             dtype=np.uint8) # 데이터의 타입이 uint8인 데이터를 가져와서 labels 변수에 대입\n",
    "\n",
    "    with open(images_path, 'rb') as imgpath: # 해당 image 파일 데이터를 가져옴\n",
    "        magic, num, rows, cols = struct.unpack(\">IIII\", \n",
    "                                               imgpath.read(16)) # 위와 같이 byte buffer을 읽을 수 있는 문자로 변환하기 위해 >IIII 사용 \n",
    "        images = np.fromfile(imgpath, \n",
    "                             dtype=np.uint8).reshape(len(labels), 784) # 레이블의 개수x784 행렬의 크기로 이미지 데이터를 가져옴\n",
    "        images = ((images / 255.) - .5) * 2 # 정규화 과정\n",
    " \n",
    "    return images, labels # 경로로부터 가져온 데이터를 반환해서 사용"
   ]
  },
  {
   "cell_type": "code",
   "execution_count": 5,
   "metadata": {},
   "outputs": [
    {
     "name": "stdout",
     "output_type": "stream",
     "text": [
      "mnist_scaled.npz\n",
      "t10k-images-idx3-ubyte\n",
      "t10k-images-idx3-ubyte.gz\n",
      "t10k-labels-idx1-ubyte\n",
      "t10k-labels-idx1-ubyte.gz\n",
      "train-images-idx3-ubyte\n",
      "train-images-idx3-ubyte.gz\n",
      "train-labels-idx1-ubyte\n",
      "train-labels-idx1-ubyte.gz\n",
      "湲곕쭚���泥닿낵�젣1_2017650009_源��깭�셿.ipynb\n",
      "湲곕쭚���泥닿낵�젣2_2017650009_源��깭�셿.ipynb\n",
      "湲곕쭚���泥닿낵�젣3_2017650009_源��깭�셿.ipynb\n"
     ]
    }
   ],
   "source": [
    "!ls "
   ]
  },
  {
   "cell_type": "markdown",
   "metadata": {},
   "source": [
    "현재 폴더에 있는 파일 목록을 보는 cmd 명령어(한국어는 깨져서 나옴)"
   ]
  },
  {
   "cell_type": "code",
   "execution_count": 6,
   "metadata": {},
   "outputs": [
    {
     "name": "stdout",
     "output_type": "stream",
     "text": [
      "행: 60000, 열: 784\n"
     ]
    }
   ],
   "source": [
    "# 제 컴퓨터에 해당하는 파일 경로에 맞춰서 파일을 가져오는 함수를 사용\n",
    "# 훈련데이터를 제대로 가져왔는지 행과 열을 파악\n",
    "\n",
    "path = \"C:/Users/terry/Desktop/PythonProjects/MachineLearning/Machine_learning_uos_lecture/시험대체과제/기말고사 대체 과제/\"\n",
    "\n",
    "X_train, y_train = load_mnist(path, kind='train') # 훈련데이터\n",
    "\n",
    "print('행: %d, 열: %d' % (X_train.shape[0], X_train.shape[1])) # 행렬의 크기를 반환"
   ]
  },
  {
   "cell_type": "code",
   "execution_count": 7,
   "metadata": {},
   "outputs": [
    {
     "name": "stdout",
     "output_type": "stream",
     "text": [
      "행: 10000, 열: 784\n"
     ]
    }
   ],
   "source": [
    "# 테스트 데이터를 제대로 가져왔는지 파악하기 위함\n",
    "\n",
    "X_test, y_test = load_mnist(path, kind='t10k') # 테스트 데이터\n",
    "\n",
    "print('행: %d, 열: %d' % (X_test.shape[0], X_test.shape[1])) # 행렬의 크기 반환"
   ]
  },
  {
   "cell_type": "markdown",
   "metadata": {},
   "source": [
    "#### 각 클래스에 첫번째 이미지를 그림"
   ]
  },
  {
   "cell_type": "code",
   "execution_count": 8,
   "metadata": {},
   "outputs": [
    {
     "data": {
      "image/png": "[encoded data removed]",
      "text/plain": [
       "<Figure size 432x288 with 10 Axes>"
      ]
     },
     "metadata": {},
     "output_type": "display_data"
    }
   ],
   "source": [
    "fig, ax = plt.subplots(nrows=2, ncols=5, sharex=True, sharey=True,) # 그리고자 하는 그림의 개수 크기 설정\n",
    "ax = ax.flatten() # 1차원 행 벡터로 펼치기\n",
    "\n",
    "for i in range(10): # 레이블에 따라 반환(0부터 9까지 해당하는 이미지를 구분하는 레이블)\n",
    "    img = X_train[y_train == i][0].reshape(28, 28) # 가져온 훈련데이터에서 y 훈련데이터의 레이블이 0~9중에 하나일 경우, 그 데이터를 28x28행렬로 변환해서 가져옴\n",
    "    ax[i].imshow(img, cmap='Greys') # 플랏 하나에다가 위에서 가져온 이미지 행렬을 그려줌\n",
    "\n",
    "# 기타 플랏 속성 설정\n",
    "ax[0].set_xticks([]) # x축의 눈금 설정\n",
    "ax[0].set_yticks([]) # y축의 눈금 설정\n",
    "plt.tight_layout()\n",
    "plt.show()"
   ]
  },
  {
   "cell_type": "markdown",
   "metadata": {},
   "source": [
    "### 해석\n",
    "\n",
    "mnist 데이터에 있는 이미지의 모습을 알아보기 위해서 숫자 0부터 9까지의 샘플을 plot으로 그려서 출력했습니다. "
   ]
  },
  {
   "cell_type": "markdown",
   "metadata": {},
   "source": [
    "#### 숫자 7샘플 25개를 그림"
   ]
  },
  {
   "cell_type": "code",
   "execution_count": 9,
   "metadata": {},
   "outputs": [
    {
     "data": {
      "image/png": "[encoded data removed]",
      "text/plain": [
       "<Figure size 432x288 with 25 Axes>"
      ]
     },
     "metadata": {},
     "output_type": "display_data"
    }
   ],
   "source": [
    "fig, ax = plt.subplots(nrows=5, ncols=5, sharex=True, sharey=True,) # 25개를 그려야하므로 플랏의 배치를 5x5로 설정\n",
    "ax = ax.flatten() # 차원 행 벡터로 펼치기\n",
    "\n",
    "for i in range(25): # 25개의 플랏을 그려야하므로 반복문을 그정도로 돌림\n",
    "    img = X_train[y_train == 7][i].reshape(28, 28) # 훈련데이터에서 y 훈련데이터 레이블이 7인 경우에만 데이터를 가져와서 28x28 행렬로 변환\n",
    "    ax[i].imshow(img, cmap='Greys') # 위에서 변환한 레이블 7의 데이터를 플랏에다가 순서대로 그려줌.\n",
    "\n",
    "# 기타 플랏 설정들\n",
    "ax[0].set_xticks([]) # x 축 눈금 설정\n",
    "ax[0].set_yticks([]) # y 축 눈금 설정\n",
    "plt.tight_layout()\n",
    "plt.show()"
   ]
  },
  {
   "cell_type": "markdown",
   "metadata": {},
   "source": [
    "### 해석\n",
    "\n",
    "손글씨마다 얼마나 차이가 나는지 확인을 해보기 위해 7이라는 숫자를 예시로 25개의 7 이미지를 출력해보았습니다. "
   ]
  },
  {
   "cell_type": "code",
   "execution_count": 10,
   "metadata": {},
   "outputs": [],
   "source": [
    "# 파이썬에서 빠르게 읽을 수 있는 포멧(더 작게 압축해서 가볍고 numpy에 특화)으로 저장하기 위해 외부 파일로 다시 저장 과정을 거침\n",
    "\n",
    "np.savez_compressed('mnist_scaled.npz', \n",
    "                    X_train=X_train,\n",
    "                    y_train=y_train,\n",
    "                    X_test=X_test,\n",
    "                    y_test=y_test) # 훈련데이터와 테스트데이터를 다시 \"mnist_scaled.npz\"의 이름의 외부 파일로 저장"
   ]
  },
  {
   "cell_type": "code",
   "execution_count": 11,
   "metadata": {},
   "outputs": [
    {
     "data": {
      "text/plain": [
       "['X_train', 'y_train', 'X_test', 'y_test']"
      ]
     },
     "execution_count": 11,
     "metadata": {},
     "output_type": "execute_result"
    }
   ],
   "source": [
    "mnist = np.load('mnist_scaled.npz') # 저장한 데이터를 가져오기 위해 위처럼 압축 파일을 푼 다음 다시 저장해서 여기서 다시 불러옴.\n",
    "mnist.files # 불러온 파일의 속성"
   ]
  },
  {
   "cell_type": "code",
   "execution_count": 12,
   "metadata": {},
   "outputs": [
    {
     "data": {
      "text/plain": [
       "(60000, 784)"
      ]
     },
     "execution_count": 12,
     "metadata": {},
     "output_type": "execute_result"
    }
   ],
   "source": [
    "X_train, y_train, X_test, y_test = [mnist[f] for f in ['X_train', 'y_train', \n",
    "                                    'X_test', 'y_test']] # 불러온 파일에 있는 데이터에서 훈련데이터와 테스트 데이터를 다시 가져옴.\n",
    "\n",
    "del mnist # mnist 데이터 삭제 \n",
    "\n",
    "X_train.shape # 가져온 데이터의 행렬이 위에서 가져왔던 데이터와 일치하는지 위해 크기를 확인"
   ]
  },
  {
   "cell_type": "markdown",
   "metadata": {},
   "source": [
    "## 다층 퍼셉트론 구현"
   ]
  },
  {
   "cell_type": "code",
   "execution_count": 13,
   "metadata": {},
   "outputs": [],
   "source": [
    "# 여러 은닉층이 있는 다층 퍼셉트론을 만들어줌\n",
    "\n",
    "class NeuralNetMLP(object):\n",
    "    \"\"\"피드포워드 신경망 / 다층 퍼셉트론 분류기\n",
    "\n",
    "    매개변수\n",
    "\n",
    "    ------------\n",
    "    n_hidden : int (기본값: 30)\n",
    "        은닉 유닛 개수\n",
    "    l2 : float (기본값: 0.)\n",
    "        L2 규제의 람다 값\n",
    "        l2=0이면 규제 없음. (기본값)\n",
    "    epochs : int (기본값: 100)\n",
    "        훈련 세트를 반복할 횟수\n",
    "    eta : float (기본값: 0.001)\n",
    "        학습률\n",
    "    shuffle : bool (기본값: True)\n",
    "        에포크마다 훈련 세트를 섞을지 여부\n",
    "        True이면 데이터를 섞어 순서를 바꿉니다\n",
    "    minibatch_size : int (기본값: 1)\n",
    "        미니 배치의 훈련 샘플 개수\n",
    "    seed : int (기본값: None)\n",
    "        가중치와 데이터 셔플링을 위한 난수 초깃값\n",
    "\n",
    "    속성\n",
    "    -----------\n",
    "    eval_ : dict\n",
    "      훈련 에포크마다 비용, 훈련 정확도, 검증 정확도를 수집하기 위한 딕셔너리\n",
    "\n",
    "    \"\"\"\n",
    "    \n",
    "    # 생성자\n",
    "    def __init__(self, n_hidden=30, # 은닉 유닛의 개수\n",
    "                 l2=0., epochs=100, eta=0.001, # L2의 규제의 람다값인데 0이면 규제가 없음을 나타냄\n",
    "                 shuffle=True, minibatch_size=1, seed=None): # 랜덤으로 섞고, 미니 배치 훈련 샘플의 개수는 하나\n",
    "\n",
    "        self.random = np.random.RandomState(seed)\n",
    "        self.n_hidden = n_hidden\n",
    "        self.l2 = l2\n",
    "        self.epochs = epochs\n",
    "        self.eta = eta\n",
    "        self.shuffle = shuffle\n",
    "        self.minibatch_size = minibatch_size\n",
    "    \n",
    "    \n",
    "    # 원핫-인코딩(레이블에 해당하는지에 따라 1, 0으로 구분하는 레이블 인코딩 방식)\n",
    "    def _onehot(self, y, n_classes):\n",
    "        \n",
    "        onehot = np.zeros((n_classes, y.shape[0])) # 클래스 개수와 y 레이블의 크기에 따라 0으로 가득찬 행렬 벡터를 만들어줌.\n",
    "        \n",
    "        for idx, val in enumerate(y.astype(int)): # y를 정수 타입으로 변환한 행렬 벡터를 반복문을 돌려서 \n",
    "            onehot[val, idx] = 1. # onehot 벡터에다가 1을 넣어줌.\n",
    "        \n",
    "        return onehot.T\n",
    "\n",
    "    \n",
    "    # 로지스틱 함수(시그모이드)를 계산하는 함수\n",
    "    def _sigmoid(self, z): \n",
    "        return 1. / (1. + np.exp(-np.clip(z, -250, 250)))\n",
    "\n",
    "    \n",
    "    # 피드 포워드(퍼셉트론에서 입력층으로 값이 들어오고 은닉층 거쳐서 출력층으로 값이 나오는 순서의 전 과정)하는 함수\n",
    "    def _forward(self, X):\n",
    "        \n",
    "        # 단계 0: 입력값이 들어옴.\n",
    "\n",
    "        # 단계 1: 은닉층의 최종 입력\n",
    "        z_h = np.dot(X, self.w_h) + self.b_h # 입력값인 X와 입력층 가중치를 행렬곱 시행해주고 절편을 더해줌\n",
    "\n",
    "        # 단계 2: 은닉층의 활성화 출력\n",
    "        a_h = self._sigmoid(z_h) # 그렇게 나온 값을 시그모이드 함수를 돌려서 0또는 1과 근접한 값들을 반환\n",
    "\n",
    "        # 단계 3: 출력층의 최종 입력\n",
    "        z_out = np.dot(a_h, self.w_out) + self.b_out # 시그모이드를 돌린 값을과 출력층의 가중치를 행렬곱을 한 다음 출력층의 b1을 더해줌.\n",
    "\n",
    "        # 단계 4: 출력층의 활성화 출력\n",
    "        a_out = self._sigmoid(z_out) # 그렇게 나온 값을 한번더 시그모이드 함수에 넣고 돌림\n",
    "        \n",
    "        # 단계 5 : 출력층을 반환\n",
    "        return z_h, a_h, z_out, a_out # 1~4단계에 해당하는 모든 값을 반환\n",
    "\n",
    "    \n",
    "    # 비용함수 계산 함수\n",
    "    def _compute_cost(self, y_enc, output):\n",
    "        \"\"\"비용 함수를 계산합니다\n",
    "\n",
    "        매개변수\n",
    "        ----------\n",
    "        y_enc : 배열, 크기 = (n_samples, n_labels)\n",
    "            원-핫 인코딩된 클래스 레이블\n",
    "        output : 배열, 크기 = [n_samples, n_output_units]\n",
    "            출력층의 활성화 출력 (정방향 계산)\n",
    "\n",
    "        반환값\n",
    "        ---------\n",
    "        cost : float\n",
    "            규제가 포함된 비용\n",
    "\n",
    "        \"\"\"\n",
    "        L2_term = (self.l2 *\n",
    "                   (np.sum(self.w_h ** 2.) +\n",
    "                    np.sum(self.w_out ** 2.))) # L2의 규제 람다값에 은닉 가중치 제곱의 합과 출력층 가중치 제곱의 합을 곱해줌.\n",
    "\n",
    "        term1 = -y_enc * (np.log(output)) # 원핫-인코딩된 레이블에, 출력층의 활성화 출력값에 로그를 씌워서 음수곱을 함.\n",
    "        term2 = (1. - y_enc) * np.log(1. - output) # 1에서 원핫-인코딩된 값을 뺀(0 또는 -1) 후 거기다가 1에서 출력층의 활성화(시그모이드) 출력값을 뺀 값에 로그를 씌워 서로 곱함.\n",
    "        cost = np.sum(term1 - term2) + L2_term # 이렇게 구한 두 개의 값을 서로 빼주고 합을 구한 후 가중치제곱합을 곱한 L2_tern을 더해준 것이 비용함수\n",
    "        \n",
    "        return cost\n",
    "\n",
    "    # 레이블 예측 함수\n",
    "    def predict(self, X):\n",
    "        \n",
    "        z_h, a_h, z_out, a_out = self._forward(X) # 피드 포워드 했던 각 단계별 결과값을 받아옴.\n",
    "        y_pred = np.argmax(z_out, axis=1) # 가장 마지막 출력층의 결과물인 값 중에서 가장 큰 값이 있는 인덱스를 반환하면 예측 레이블이 나옴.\n",
    "        return y_pred\n",
    "\n",
    "    # 학습 함수\n",
    "    def fit(self, X_train, y_train, X_valid, y_valid):\n",
    "        \n",
    "        n_output = np.unique(y_train).shape[0]  # 훈련 데이터에서 중복된 값을 제거해서 고유한 레이블을 뽑음\n",
    "        n_features = X_train.shape[1] # x 훈련 데이터의 열 값\n",
    "\n",
    "        ########################\n",
    "        # 가중치 초기화\n",
    "        ########################\n",
    "\n",
    "        # 입력층 -> 은닉층 사이의 가중치\n",
    "        self.b_h = np.zeros(self.n_hidden)\n",
    "        self.w_h = self.random.normal(loc=0.0, scale=0.1,\n",
    "                                      size=(n_features, self.n_hidden))\n",
    "\n",
    "        # 은닉층 -> 출력층 사이의 가중치\n",
    "        self.b_out = np.zeros(n_output)\n",
    "        self.w_out = self.random.normal(loc=0.0, scale=0.1,\n",
    "                                        size=(self.n_hidden, n_output))\n",
    "\n",
    "        epoch_strlen = len(str(self.epochs))  # 출력 포맷을 위해\n",
    "        self.eval_ = {'cost': [], 'train_acc': [], 'valid_acc': []}\n",
    "\n",
    "        y_train_enc = self._onehot(y_train, n_output)\n",
    "\n",
    "        # 훈련 에포크를 반복합니다\n",
    "        for i in range(self.epochs):\n",
    "\n",
    "            # 미니 배치로 반복합니다\n",
    "            indices = np.arange(X_train.shape[0])\n",
    "\n",
    "            if self.shuffle:\n",
    "                self.random.shuffle(indices)\n",
    "\n",
    "            for start_idx in range(0, indices.shape[0] - self.minibatch_size +\n",
    "                                   1, self.minibatch_size):\n",
    "                batch_idx = indices[start_idx:start_idx + self.minibatch_size]\n",
    "\n",
    "                # 정방향 계산\n",
    "                z_h, a_h, z_out, a_out = self._forward(X_train[batch_idx])\n",
    "\n",
    "                ##################\n",
    "                # 역전파\n",
    "                ##################\n",
    "\n",
    "                # [n_samples, n_classlabels]\n",
    "                sigma_out = a_out - y_train_enc[batch_idx]\n",
    "\n",
    "                # [n_samples, n_hidden]\n",
    "                sigmoid_derivative_h = a_h * (1. - a_h)\n",
    "\n",
    "                # [n_samples, n_classlabels] dot [n_classlabels, n_hidden]\n",
    "                # -> [n_samples, n_hidden]\n",
    "                sigma_h = (np.dot(sigma_out, self.w_out.T) *\n",
    "                           sigmoid_derivative_h)\n",
    "\n",
    "                # [n_features, n_samples] dot [n_samples, n_hidden]\n",
    "                # -> [n_features, n_hidden]\n",
    "                grad_w_h = np.dot(X_train[batch_idx].T, sigma_h)\n",
    "                grad_b_h = np.sum(sigma_h, axis=0)\n",
    "\n",
    "                # [n_hidden, n_samples] dot [n_samples, n_classlabels]\n",
    "                # -> [n_hidden, n_classlabels]\n",
    "                grad_w_out = np.dot(a_h.T, sigma_out)\n",
    "                grad_b_out = np.sum(sigma_out, axis=0)\n",
    "\n",
    "                # 규제와 가중치 업데이트\n",
    "                delta_w_h = (grad_w_h + self.l2*self.w_h)\n",
    "                delta_b_h = grad_b_h # 편향은 규제하지 않습니다\n",
    "                self.w_h -= self.eta * delta_w_h\n",
    "                self.b_h -= self.eta * delta_b_h\n",
    "\n",
    "                delta_w_out = (grad_w_out + self.l2*self.w_out)\n",
    "                delta_b_out = grad_b_out  # 편향은 규제하지 않습니다\n",
    "                self.w_out -= self.eta * delta_w_out\n",
    "                self.b_out -= self.eta * delta_b_out\n",
    "\n",
    "            #############\n",
    "            # 평가\n",
    "            #############\n",
    "\n",
    "            # 훈련하는 동안 에포크마다 평가합니다\n",
    "            z_h, a_h, z_out, a_out = self._forward(X_train)\n",
    "            \n",
    "            cost = self._compute_cost(y_enc=y_train_enc,\n",
    "                                      output=a_out)\n",
    "\n",
    "            y_train_pred = self.predict(X_train)\n",
    "            y_valid_pred = self.predict(X_valid)\n",
    "\n",
    "            train_acc = ((np.sum(y_train == y_train_pred)).astype(np.float) /\n",
    "                         X_train.shape[0])\n",
    "            valid_acc = ((np.sum(y_valid == y_valid_pred)).astype(np.float) /\n",
    "                         X_valid.shape[0])\n",
    "\n",
    "            sys.stderr.write('\\r%0*d/%d | 비용: %.2f '\n",
    "                             '| 훈련/검증 정확도: %.2f%%/%.2f%% ' %\n",
    "                             (epoch_strlen, i+1, self.epochs, cost,\n",
    "                              train_acc*100, valid_acc*100))\n",
    "            sys.stderr.flush()\n",
    "\n",
    "            self.eval_['cost'].append(cost)\n",
    "            self.eval_['train_acc'].append(train_acc)\n",
    "            self.eval_['valid_acc'].append(valid_acc)\n",
    "\n",
    "        return self"
   ]
  },
  {
   "cell_type": "code",
   "execution_count": 14,
   "metadata": {},
   "outputs": [
    {
     "name": "stderr",
     "output_type": "stream",
     "text": [
      "200/200 | 비용: 5065.78 | 훈련/검증 정확도: 99.28%/97.98%  "
     ]
    },
    {
     "data": {
      "text/plain": [
       "<__main__.NeuralNetMLP at 0x1d807a3bfc8>"
      ]
     },
     "execution_count": 14,
     "metadata": {},
     "output_type": "execute_result"
    }
   ],
   "source": [
    "n_epochs = 200\n",
    "\n",
    "nn = NeuralNetMLP(n_hidden=100, # 은닉층의 개수가 100개\n",
    "                  l2=0.01, # L2의 규제 람다값은 0.01\n",
    "                  epochs=n_epochs, # 훈련세트 반복횟수는 200회\n",
    "                  eta=0.0005,# 학습률은 0.0005\n",
    "                  minibatch_size=100, # 확률적 경사하강법에서 에포크마다 훈련세트를 나눈 미니 배치 훈련 샘플의 개수는 100개\n",
    "                  shuffle=True, # 알고리즘이 순환고리에 갇히지 않도록 에포크를 시작하기 전에 훈련세트를 섞을지 여부\n",
    "                  seed=1) # 셔플과 가중치 초기화를 위한 난수 초기값\n",
    "\n",
    "nn.fit(X_train=X_train[:55000], # x 훈련데이터\n",
    "       y_train=y_train[:55000], # y 훈련 데이터\n",
    "       X_valid=X_train[55000:], # x 훈련 검증할 데이터\n",
    "       y_valid=y_train[55000:]) # y 훈련 검증 데이터"
   ]
  },
  {
   "cell_type": "markdown",
   "metadata": {},
   "source": [
    "### 해석\n",
    "\n",
    "위에서 만든 다층 퍼셉트론에 은닉층을 100개 하고 나머지 설정을 하고 훈련데이터와 그걸 검증해줄 수 있는 검증 데이터를 넣고 학습을 시켰습니다. 거의 3분정도 로딩이 걸려서 결과를 보니 비용함수의 값은 5065이고, 훈련의 정확도는 99.28%인 것을 보니 정확한 것 같습니다. "
   ]
  },
  {
   "cell_type": "code",
   "execution_count": 15,
   "metadata": {},
   "outputs": [
    {
     "data": {
      "image/png": "[encoded data removed]",
      "text/plain": [
       "<Figure size 432x288 with 1 Axes>"
      ]
     },
     "metadata": {
      "needs_background": "light"
     },
     "output_type": "display_data"
    }
   ],
   "source": [
    "# MNIST 데이터셋에서 훈련한 다층 퍼셉트론의 비용함수를 그래프로\n",
    "\n",
    "plt.plot(range(nn.epochs), nn.eval_['cost']) # x축에는 에포크 횟수, y축에는 비용함수\n",
    "\n",
    "# 나머지 그래프 설정\n",
    "plt.ylabel('Cost')\n",
    "plt.xlabel('Epochs')\n",
    "plt.show()"
   ]
  },
  {
   "cell_type": "markdown",
   "metadata": {},
   "source": [
    "### 해석\n",
    "\n",
    "100번의 에포크동안은 비용함수가 급격히 감소하는 것을 볼 수 있습니다. 그리고 이후 200까지의 100번의 에포크동안은 천천히 감소합니다. 그러나 175~200번 사이의 에포크동안 약간 경사가 있어서 에포크를 만약 더 추가한다면 계속 급격히 감소하므로 비용이 더 감소할 것으로 보입니다. "
   ]
  },
  {
   "cell_type": "code",
   "execution_count": 16,
   "metadata": {},
   "outputs": [
    {
     "data": {
      "image/png": "[encoded data removed]",
      "text/plain": [
       "<Figure size 432x288 with 1 Axes>"
      ]
     },
     "metadata": {
      "needs_background": "light"
     },
     "output_type": "display_data"
    }
   ],
   "source": [
    "# 200번 훈련 에포크에 대한 정확도\n",
    "\n",
    "plt.plot(range(nn.epochs), nn.eval_['train_acc'], \n",
    "         label='training') # 훈련데이터의 정확도를  에포크에 따라 그림\n",
    "plt.plot(range(nn.epochs), nn.eval_['valid_acc'], \n",
    "         label='validation', linestyle='--') # 검증 데이터의 정확도를 에포크 횟수에 따라 그림.\n",
    "\n",
    "# 나머지 그래프 설정\n",
    "plt.ylabel('Accuracy')\n",
    "plt.xlabel('Epochs')\n",
    "plt.legend()\n",
    "plt.show()"
   ]
  },
  {
   "cell_type": "markdown",
   "metadata": {},
   "source": [
    "### 해석\n",
    "\n",
    "훈련 에포크가 늘어날수록 훈련의 정확도와 검증 정확도 사이 간격이 증가하는 것을 위 그래프에서 볼 수 있습니다. 50회를 기준으로 검증 데이터의 정확도가 더 높다가 50회를 넘어가면서부터 훈련데이터의 정확도가 증가하여 과대적합되는 시작하는 것을 알 수 있습니다. 그래서 이러한 정확도 그래프를 그려서 과대적합되는지 어느 구간부터 그렇게 진행이 되었는지 확인하는 중요함을 시사하는 그래프입니다."
   ]
  },
  {
   "cell_type": "code",
   "execution_count": 17,
   "metadata": {},
   "outputs": [
    {
     "name": "stdout",
     "output_type": "stream",
     "text": [
      "테스트 정확도: 97.54%\n"
     ]
    }
   ],
   "source": [
    "# 모델 일반화 성능 평가\n",
    "\n",
    "y_test_pred = nn.predict(X_test) # x 테스트에 대한 예측 레이블을 반환\n",
    "acc = (np.sum(y_test == y_test_pred) # 관측값과 예측값이 일치하는 경우의 합을 모두 구한 다음 실수로 변환해서 그걸 x 테스트 데이터의 행의 크기(레이블의 개수)로 나눠줍니다.\n",
    "       .astype(np.float) / X_test.shape[0])\n",
    "\n",
    "print('테스트 정확도: %.2f%%' % (acc * 100)) # "
   ]
  },
  {
   "cell_type": "code",
   "execution_count": 18,
   "metadata": {},
   "outputs": [
    {
     "data": {
      "text/plain": [
       "784"
      ]
     },
     "execution_count": 18,
     "metadata": {},
     "output_type": "execute_result"
    }
   ],
   "source": [
    "X_test.shape[1] # x테스트 데이터의 열의 개수"
   ]
  },
  {
   "cell_type": "code",
   "execution_count": 19,
   "metadata": {
    "scrolled": true
   },
   "outputs": [
    {
     "data": {
      "image/png": "[encoded data removed]",
      "text/plain": [
       "<Figure size 432x288 with 25 Axes>"
      ]
     },
     "metadata": {},
     "output_type": "display_data"
    }
   ],
   "source": [
    "# MLP 구현이 샘플 이미지를 어떻게 판단하는지 확인\n",
    "\n",
    "'''\n",
    "t = 실제 클래스 레이블\n",
    "p = 예측된 클래스 레이블\n",
    "'''\n",
    "miscl_img = X_test[y_test != y_test_pred][:25] # x 테스트 데이터 중 y 테스트 데이터의 레이블이 예측값과 다를 경우, 잘못 분류(mis classified)된 이미지로 처리\n",
    "correct_lab = y_test[y_test != y_test_pred][:25] # y 테스트 데이터 중 위와 같이 예측값과 다른 것을 \n",
    "miscl_lab = y_test_pred[y_test != y_test_pred][:25] # y 테스트 예측값 중에서 \n",
    "\n",
    "fig, ax = plt.subplots(nrows=5, ncols=5, sharex=True, sharey=True,) # 숫자 판별을 시각화하기 위해 그래프 세팅\n",
    "ax = ax.flatten() # 1차원으로 펼침\n",
    "for i in range(25): # 25개의 데이터를 보여줘야하므로\n",
    "    img = miscl_img[i].reshape(28, 28) # 잘못 분류된 이미지 데이터를 28 by 28픽셀의 행렬 벡터로 변환\n",
    "    ax[i].imshow(img, cmap='Greys', interpolation='nearest') # 이미지를 회색으로, 근처에 있는 데이터를 중점으로 보간(직선을 곡선으로 처리할 때 사용) 적용\n",
    "    ax[i].set_title('%d) t: %d p: %d' % (i+1, correct_lab[i], miscl_lab[i])) # 실제 레이블과 예측 레이블을 그림 위에다가 제목으로 띄워줌.\n",
    "\n",
    "# 기타 플랏 설정들\n",
    "ax[0].set_xticks([])\n",
    "ax[0].set_yticks([])\n",
    "plt.tight_layout()\n",
    "plt.show()"
   ]
  },
  {
   "cell_type": "markdown",
   "metadata": {},
   "source": [
    "### 해석\n",
    "\n",
    "25개의 이미지들을 보면 t와 p의 값으로 실제 레이블과 예측 레이블의 값을 표기해놨습니다. 일부 이미지는 사람도 파악하기 힘들어서 그런지 예측을 돌렸을 때도 다양한 잘못된 분류의 결과물들을 볼 수 있습니다. 사람이 봐도 헷갈릴만한게 예측한 값들도 볼 수 있었습니다.  "
   ]
  }
 ],
 "metadata": {
  "kernelspec": {
   "display_name": "Python 3",
   "language": "python",
   "name": "python3"
  },
  "language_info": {
   "codemirror_mode": {
    "name": "ipython",
    "version": 3
   },
   "file_extension": ".py",
   "mimetype": "text/x-python",
   "name": "python",
   "nbconvert_exporter": "python",
   "pygments_lexer": "ipython3",
   "version": "3.7.4"
  }
 },
 "nbformat": 4,
 "nbformat_minor": 2
}
