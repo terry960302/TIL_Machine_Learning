{
 "cells": [
  {
   "cell_type": "code",
   "execution_count": null,
   "metadata": {},
   "outputs": [],
   "source": [
    "# 실습문제 1 \n",
    "\n",
    "# 민주당 또는 공화당의 값을 갖는 분류 변수와 16개의 이진변수로 구성된 HouseVotes84 자료에 대하여 단순 베이즈 분류를 적용해보자"
   ]
  },
  {
   "cell_type": "code",
   "execution_count": 3,
   "metadata": {},
   "outputs": [
    {
     "name": "stdout",
     "output_type": "stream",
     "text": [
      "          Class V1 V2 V3 V4 V5 V6 V7 V8 V9 V10 V11 V12 V13 V14 V15 V16\n",
      "5      democrat  n  y  y  n  y  y  n  n  n   n   n   n   y   y   y   y\n",
      "8    republican  n  y  n  y  y  y  n  n  n   n   n   y   y   y   n   y\n",
      "19     democrat  y  y  y  n  n  n  y  y  y   n   y   n   n   n   y   y\n",
      "23     democrat  y  y  y  n  n  n  y  y  y   n   n   n   n   n   y   y\n",
      "25     democrat  y  n  y  n  n  n  y  y  y   y   n   n   n   n   y   y\n",
      "..          ... .. .. .. .. .. .. .. .. ..  ..  ..  ..  ..  ..  ..  ..\n",
      "423    democrat  n  y  y  n  n  y  y  y  y   n   y   n   n   y   y   y\n",
      "426    democrat  y  n  y  n  n  n  y  y  y   y   n   n   n   n   y   y\n",
      "427  republican  n  n  n  y  y  y  y  y  n   y   n   y   y   y   n   y\n",
      "430  republican  n  n  y  y  y  y  n  n  y   y   n   y   y   y   n   y\n",
      "431    democrat  n  n  y  n  n  n  y  y  y   y   n   n   n   n   n   y\n",
      "\n",
      "[232 rows x 17 columns]\n"
     ]
    }
   ],
   "source": [
    "import numpy as np\n",
    "import pandas as pd\n",
    "from sklearn.naive_bayes import BernoulliNB\n",
    "from sklearn.metrics import confusion_matrix\n",
    "\n",
    "# 자료 불러오기\n",
    "df= pd.read_csv('./5 -1. 단순베이즈 분류 데이터셋/HouseVotes84.csv')\n",
    "\n",
    "# 결측치 제거\n",
    "df = df.dropna()\n",
    "\n",
    "# 잘 불러왔는지 확인\n",
    "print(df)"
   ]
  },
  {
   "cell_type": "code",
   "execution_count": 11,
   "metadata": {},
   "outputs": [
    {
     "name": "stdout",
     "output_type": "stream",
     "text": [
      "[[1. 0.]\n",
      " [0. 1.]\n",
      " [1. 0.]\n",
      " [1. 0.]\n",
      " [1. 0.]\n",
      " [1. 0.]\n",
      " [1. 0.]\n",
      " [0. 1.]\n",
      " [1. 0.]\n",
      " [0. 1.]] 5\n",
      "--------------------\n",
      "[[111  13]\n",
      " [  6 102]]\n"
     ]
    },
    {
     "name": "stderr",
     "output_type": "stream",
     "text": [
      "C:\\Users\\terry\\Anaconda3\\lib\\site-packages\\sklearn\\naive_bayes.py:485: UserWarning: alpha too small will result in numeric errors, setting alpha = 1.0e-10\n",
      "  'setting alpha = %.1e' % _ALPHA_MIN)\n"
     ]
    }
   ],
   "source": [
    "y = df[\"Class\"] # 민주당인지 공화당인지(타겟변수)\n",
    "X = df.drop('Class', axis = 1) # Class 를 뺀 모든 값(왼쪽 column 삭제)\n",
    "\n",
    "for col in X.columns:\n",
    "    X.loc[X[col] == 'y', col] =1 # csv에서 y는 1로 변경\n",
    "    X.loc[X[col] == 'n', col] =0 # csv에서 n는 0로 변경\n",
    "    \n",
    "#  예외사항에서 정확도를 높히기 위해 라플라스 추정을 적용\n",
    "bnb = BernoulliNB(alpha=0).fit(X, y)\n",
    "\n",
    "# 왼쪽값 : 민주당 / 오른쪽값 : 공화당\n",
    "print(np.round(bnb.predict_proba(X[0:10])), 5)\n",
    "\n",
    "print(\"-\"*20)\n",
    "\n",
    "#오분류표 행렬\n",
    "print(confusion_matrix(y, bnb.predict(X)))"
   ]
  },
  {
   "cell_type": "code",
   "execution_count": 13,
   "metadata": {},
   "outputs": [
    {
     "data": {
      "text/plain": [
       "124"
      ]
     },
     "execution_count": 13,
     "metadata": {},
     "output_type": "execute_result"
    }
   ],
   "source": [
    "np.sum(y ==\"democrat\") # 111 13이 민주당 부분임을 알 수 았음  "
   ]
  },
  {
   "cell_type": "code",
   "execution_count": 14,
   "metadata": {},
   "outputs": [
    {
     "name": "stdout",
     "output_type": "stream",
     "text": [
      "정확도 :  0.9181034482758621\n",
      "오류율 :  0.08189655172413793\n"
     ]
    }
   ],
   "source": [
    "# 결론적으로 이 단순 베이즈 분류의 정확도와 오류율을 알아보자\n",
    "\n",
    "result = confusion_matrix(y, bnb.predict(X))\n",
    "\n",
    "sum = result[0][0] + result[0][1] + result[1][0]+result[1][1]\n",
    "\n",
    "correctRate = (result[0][0] + result[1][1]) / sum\n",
    "errRate = (result[0][1] + result[1][0]) / sum\n",
    "\n",
    "print(\"정확도 : \", correctRate)\n",
    "print(\"오류율 : \", errRate)"
   ]
  },
  {
   "cell_type": "code",
   "execution_count": null,
   "metadata": {},
   "outputs": [],
   "source": []
  }
 ],
 "metadata": {
  "kernelspec": {
   "display_name": "Python 3",
   "language": "python",
   "name": "python3"
  },
  "language_info": {
   "codemirror_mode": {
    "name": "ipython",
    "version": 3
   },
   "file_extension": ".py",
   "mimetype": "text/x-python",
   "name": "python",
   "nbconvert_exporter": "python",
   "pygments_lexer": "ipython3",
   "version": "3.7.4"
  }
 },
 "nbformat": 4,
 "nbformat_minor": 2
}
