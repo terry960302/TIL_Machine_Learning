{
 "cells": [
  {
   "cell_type": "code",
   "execution_count": 54,
   "metadata": {},
   "outputs": [],
   "source": [
    "# 패키지 설치\n",
    "import numpy as np\n",
    "import pandas as pd\n",
    "import matplotlib.pyplot as plt\n",
    "%matplotlib inline\n",
    "from matplotlib.colors import ListedColormap"
   ]
  },
  {
   "cell_type": "code",
   "execution_count": 50,
   "metadata": {},
   "outputs": [],
   "source": [
    "class Perceptron(object):\n",
    "    def __init__(self, eta=0.01, n_iter=50, random_state = 1): # 선언 초기화 동시에 + 생성자\n",
    "        self.eta = eta #  학습률\n",
    "        self.n_iter = n_iter # 반복문 반복 횟수\n",
    "        self.random_state = random_state # 가중치를 무작위로 초기화(리셋)를 위한 임의의 수 생성을 위함\n",
    "        \n",
    "    def fit(self, X, y):\n",
    "        rgen = np.random.RandomState(self.random_state) # 임의의 수 생성기 (random generator) \n",
    "        self.w_ = rgen.normal(loc=0.0, scale = 0.01, size = 1 + X.shape[1]) # 평균이 0, 표준편차는 0.01, 데이터 크기는 행의 개수\n",
    "        self.errors_ = []\n",
    "\n",
    "        # 50번 반복\n",
    "        for i in range(self.n_iter):\n",
    "            errors = 0\n",
    "            for xi, target in zip(X, y):\n",
    "                update = self.eta * (target -self.predict(xi)) # y관측값에서 xi를 대입한 y예측값을 뺀 값에 학습률을 곱한 걸 업데이트\n",
    "                self.w_[1:] += update * xi # 가중치에 갱신된 값에 x값을 곱해준 값을 더해줌.\n",
    "                self.w_[0] += update # 임계값에 새로 갱신된 값을 더해줌\n",
    "                errors += int(update != 0.0) # 오차는 새로 갱신된 값이 0이 아닐 경우 더해줌.\n",
    "            self.errors_.append(errors) # 오차를 리스트에 추가\n",
    "    \n",
    "    # 가중치 * X + 임계값 = Y의 값(계단함수에 들어갈 인풋값)\n",
    "    def net_input(self, X):\n",
    "        return np.dot(X, self.w_[1:]) + self.w_[0] # 행렬곱 (x와 가중치의 곱) 후에 임계값을 더해줌.\n",
    "        \n",
    "    # 단위 계단 함수를 적용\n",
    "    def predict(self, X):\n",
    "        return np.where(self.net_input(X) >= 0.0, 1, -1) # 가중치와 x의 곱 + 임계값으로 계단함수를 통해 1이나 -1을 반환"
   ]
  },
  {
   "cell_type": "code",
   "execution_count": 22,
   "metadata": {},
   "outputs": [
    {
     "data": {
      "text/plain": [
       "0.0"
      ]
     },
     "execution_count": 22,
     "metadata": {},
     "output_type": "execute_result"
    }
   ],
   "source": [
    "v1 = np.array([1, 2, 3])\n",
    "v2 = 0.5 * v1\n",
    "np.arccos(v1.dot(v2) / (np.linalg.norm(v1) * np.linalg.norm(v2)))"
   ]
  },
  {
   "cell_type": "code",
   "execution_count": 51,
   "metadata": {},
   "outputs": [
    {
     "data": {
      "text/html": [
       "<div>\n",
       "<style scoped>\n",
       "    .dataframe tbody tr th:only-of-type {\n",
       "        vertical-align: middle;\n",
       "    }\n",
       "\n",
       "    .dataframe tbody tr th {\n",
       "        vertical-align: top;\n",
       "    }\n",
       "\n",
       "    .dataframe thead th {\n",
       "        text-align: right;\n",
       "    }\n",
       "</style>\n",
       "<table border=\"1\" class=\"dataframe\">\n",
       "  <thead>\n",
       "    <tr style=\"text-align: right;\">\n",
       "      <th></th>\n",
       "      <th>0</th>\n",
       "      <th>1</th>\n",
       "      <th>2</th>\n",
       "      <th>3</th>\n",
       "      <th>4</th>\n",
       "    </tr>\n",
       "  </thead>\n",
       "  <tbody>\n",
       "    <tr>\n",
       "      <td>145</td>\n",
       "      <td>6.7</td>\n",
       "      <td>3.0</td>\n",
       "      <td>5.2</td>\n",
       "      <td>2.3</td>\n",
       "      <td>Iris-virginica</td>\n",
       "    </tr>\n",
       "    <tr>\n",
       "      <td>146</td>\n",
       "      <td>6.3</td>\n",
       "      <td>2.5</td>\n",
       "      <td>5.0</td>\n",
       "      <td>1.9</td>\n",
       "      <td>Iris-virginica</td>\n",
       "    </tr>\n",
       "    <tr>\n",
       "      <td>147</td>\n",
       "      <td>6.5</td>\n",
       "      <td>3.0</td>\n",
       "      <td>5.2</td>\n",
       "      <td>2.0</td>\n",
       "      <td>Iris-virginica</td>\n",
       "    </tr>\n",
       "    <tr>\n",
       "      <td>148</td>\n",
       "      <td>6.2</td>\n",
       "      <td>3.4</td>\n",
       "      <td>5.4</td>\n",
       "      <td>2.3</td>\n",
       "      <td>Iris-virginica</td>\n",
       "    </tr>\n",
       "    <tr>\n",
       "      <td>149</td>\n",
       "      <td>5.9</td>\n",
       "      <td>3.0</td>\n",
       "      <td>5.1</td>\n",
       "      <td>1.8</td>\n",
       "      <td>Iris-virginica</td>\n",
       "    </tr>\n",
       "  </tbody>\n",
       "</table>\n",
       "</div>"
      ],
      "text/plain": [
       "       0    1    2    3               4\n",
       "145  6.7  3.0  5.2  2.3  Iris-virginica\n",
       "146  6.3  2.5  5.0  1.9  Iris-virginica\n",
       "147  6.5  3.0  5.2  2.0  Iris-virginica\n",
       "148  6.2  3.4  5.4  2.3  Iris-virginica\n",
       "149  5.9  3.0  5.1  1.8  Iris-virginica"
      ]
     },
     "execution_count": 51,
     "metadata": {},
     "output_type": "execute_result"
    }
   ],
   "source": [
    "### 붓꽃 퍼셉트론\n",
    "\n",
    "df = pd.read_csv(\"iris.csv\", header=None) # 파일 가져오기\n",
    "df.tail() # 제대로 가져왔는지 확인\n",
    "# 컬럼 순서 : sepal length, sepal width, petal length, petal width, class "
   ]
  },
  {
   "cell_type": "code",
   "execution_count": 52,
   "metadata": {},
   "outputs": [
    {
     "data": {
      "image/png": "[encoded data removed]",
      "text/plain": [
       "<Figure size 432x288 with 1 Axes>"
      ]
     },
     "metadata": {
      "needs_background": "light"
     },
     "output_type": "display_data"
    }
   ],
   "source": [
    "# 붓꽃 중 setosa와 versicolor를 선택\n",
    "y = df.iloc[0:100,4].values # 4번 컬럼인 붓꽃 종류 데이터를 100개 가져옴.\n",
    "y = np.where(y == \"Iris-setosa\", -1, 1) # 붓꽃 이름을 setosa이면 -1로 아니면 1로(숫자로 나눠야 나중에 편함)\n",
    "\n",
    "# 꽃받침 길이 & 꽃잎 길이 추출\n",
    "X = df.iloc[0:100, [0, 2]].values # sepal length와 petal length 이므로 0과 2의 인덱스로 가져오면 됨.\n",
    "\n",
    "# 산점도 그리기\n",
    "plt.scatter(X[:50, 0], X[:50, 1], color=\"red\", marker=\"o\", label=\"setosa\") # setosa에는 붉은 o표시\n",
    "plt.scatter(X[50:100, 0], X[50:100, 1], color=\"blue\", marker=\"x\", label=\"versicolor\") # versicolor에는 파란 x표시\n",
    "\n",
    "plt.xlabel(\"Sepal Length [cm]\")\n",
    "plt.ylabel(\"Petal Length [cm]\")\n",
    "plt.legend(loc=\"upper left\")\n",
    "\n",
    "plt.show()"
   ]
  },
  {
   "cell_type": "code",
   "execution_count": 53,
   "metadata": {},
   "outputs": [
    {
     "data": {
      "image/png": "[encoded data removed]",
      "text/plain": [
       "<Figure size 432x288 with 1 Axes>"
      ]
     },
     "metadata": {
      "needs_background": "light"
     },
     "output_type": "display_data"
    }
   ],
   "source": [
    "# 붓꽃으로 퍼셉트론 훈련\n",
    "\n",
    "ppn = Perceptron(eta= 0.1, n_iter = 10) # 0.1의 학습률로 10번의 반복을 돌림\n",
    "\n",
    "ppn.fit(X, y) # 상단에서 가져왔던 X(꽃받침 길이, 꽃잎 길이) & y(붓꽃 종류) 으로 훈련을 시작\n",
    "\n",
    "plt.plot(range(1, len(ppn.errors_) + 1), ppn.errors_, marker = \"o\") # 10번의 반복이므로 범위는 1~10이고, ppn.errors는 점의 좌표들\n",
    "\n",
    "plt.xlabel(\"Epochs\")\n",
    "plt.ylabel(\"Number of errors\")\n",
    "\n",
    "plt.show() # Epoch가 6일 때부터 에러가 없는 걸 확인 가능"
   ]
  },
  {
   "cell_type": "code",
   "execution_count": null,
   "metadata": {},
   "outputs": [],
   "source": [
    "### 결정 경계 그래프 함수\n",
    "\n",
    "def plot_decision_regions(X, y, classifier, resolution =0.02):\n",
    "    \n",
    "    markers = (\"s\", \"x\", \"o\", \"^\", \"v\") # 마커 설정\n",
    "    colors = ('red', 'blue', 'lightgreen', 'gray', 'cyan')"
   ]
  }
 ],
 "metadata": {
  "kernelspec": {
   "display_name": "Python 3",
   "language": "python",
   "name": "python3"
  },
  "language_info": {
   "codemirror_mode": {
    "name": "ipython",
    "version": 3
   },
   "file_extension": ".py",
   "mimetype": "text/x-python",
   "name": "python",
   "nbconvert_exporter": "python",
   "pygments_lexer": "ipython3",
   "version": "3.7.4"
  }
 },
 "nbformat": 4,
 "nbformat_minor": 2
}
