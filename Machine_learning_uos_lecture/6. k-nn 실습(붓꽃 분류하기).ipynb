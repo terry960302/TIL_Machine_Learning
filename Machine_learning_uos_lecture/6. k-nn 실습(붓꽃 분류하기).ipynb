{
 "cells": [
  {
   "cell_type": "code",
   "execution_count": 4,
   "metadata": {},
   "outputs": [],
   "source": [
    "# 붓꽃 자료를 5:5 로 훈련 및 테스트 자료로 나누고 훈련 자료에 3-nn 분류를 적합한 후 시험자료에 대한 오분류율을 구해보자"
   ]
  },
  {
   "cell_type": "code",
   "execution_count": 5,
   "metadata": {},
   "outputs": [
    {
     "name": "stdout",
     "output_type": "stream",
     "text": [
      "오분류율 : 0.080\n"
     ]
    }
   ],
   "source": [
    "from sklearn import datasets\n",
    "from sklearn.model_selection import train_test_split\n",
    "from sklearn.neighbors import KNeighborsClassifier\n",
    "\n",
    "# 데이터 받아오기\n",
    "iris = datasets.load_iris()\n",
    "\n",
    "# 훈련 데이터와 테스트 데이터 구분\n",
    "tr_iris, ts_iris, tr_target, ts_target = train_test_split(iris.data, iris.target, test_size=0.5, random_state=1)\n",
    "\n",
    "# 훈련 데이터로 k-nn 분류(k는 3으로)\n",
    "clf = KNeighborsClassifier(n_neighbors=3).fit(tr_iris, tr_target)\n",
    "\n",
    "print(\"오분류율 : {:.3f}\".format(1-clf.score(ts_iris, ts_target)))"
   ]
  },
  {
   "cell_type": "code",
   "execution_count": null,
   "metadata": {},
   "outputs": [],
   "source": []
  }
 ],
 "metadata": {
  "kernelspec": {
   "display_name": "Python 3",
   "language": "python",
   "name": "python3"
  },
  "language_info": {
   "codemirror_mode": {
    "name": "ipython",
    "version": 3
   },
   "file_extension": ".py",
   "mimetype": "text/x-python",
   "name": "python",
   "nbconvert_exporter": "python",
   "pygments_lexer": "ipython3",
   "version": "3.7.4"
  }
 },
 "nbformat": 4,
 "nbformat_minor": 2
}
