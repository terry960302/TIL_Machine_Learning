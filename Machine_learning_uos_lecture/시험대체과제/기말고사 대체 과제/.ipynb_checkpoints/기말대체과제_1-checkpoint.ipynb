{
 "cells": [
  {
   "cell_type": "markdown",
   "metadata": {},
   "source": [
    "## 패키지 설치"
   ]
  },
  {
   "cell_type": "code",
   "execution_count": 78,
   "metadata": {},
   "outputs": [],
   "source": [
    "from scipy.special import comb # combination 함수로 n개 중에 k개를 뽑는 가짓수를 계산할 때 사용\n",
    "import math\n",
    "import numpy as np\n",
    "import matplotlib.pyplot as plt\n",
    "from sklearn.base import BaseEstimator\n",
    "from sklearn.base import ClassifierMixin\n",
    "from sklearn.preprocessing import LabelEncoder\n",
    "from sklearn.externals import six\n",
    "from sklearn.base import clone\n",
    "from sklearn.pipeline import _name_estimators\n",
    "import operator\n",
    "from sklearn import datasets\n",
    "from sklearn.model_selection import train_test_split\n",
    "from sklearn.preprocessing import StandardScaler\n",
    "from sklearn.model_selection import cross_val_score\n",
    "from sklearn.linear_model import LogisticRegression\n",
    "from sklearn.tree import DecisionTreeClassifier\n",
    "from sklearn.neighbors import KNeighborsClassifier\n",
    "from sklearn.pipeline import Pipeline\n",
    "from sklearn.metrics import roc_curve\n",
    "from sklearn.metrics import auc\n",
    "from itertools import product\n",
    "from sklearn.model_selection import GridSearchCV\n",
    "import pandas as pd\n",
    "from sklearn.preprocessing import LabelEncoder\n",
    "from sklearn.model_selection import train_test_split\n",
    "from sklearn.ensemble import BaggingClassifier\n",
    "from sklearn.metrics import accuracy_score"
   ]
  },
  {
   "cell_type": "markdown",
   "metadata": {},
   "source": [
    "## 앙상블 학습"
   ]
  },
  {
   "cell_type": "code",
   "execution_count": 3,
   "metadata": {},
   "outputs": [
    {
     "data": {
      "text/plain": [
       "0.03432750701904297"
      ]
     },
     "execution_count": 3,
     "metadata": {},
     "output_type": "execute_result"
    }
   ],
   "source": [
    "# 앙상블 에러율 함수(이항 분포의 확률 질량 함수로 표현)\n",
    "\n",
    "'''\n",
    "n_classifier = 전체 개수\n",
    "error = 분류기가 실패할 확률\n",
    "'''\n",
    "\n",
    "def ensemble_error(n_classifier, error):\n",
    "    k_start = int(math.ceil(n_classifier / 2.))  # 실패할 확률이 25% 일 때 11개의 분류기로 구성된 앙상블이 실패하려면 여섯개 이상이 실패해야함. 고로 n_classifier의 값에 따라 실패하려면 몇 개의 분류기가 실패해야하는지에 대한 값. \n",
    "\n",
    "    probs = [] # 분류기 에러 확률 리스트\n",
    "    for k in range(k_start, n_classifier + 1): # 분류기의 개수에 따라 에러 확률을 구해서 리스트에 넣어줌.\n",
    "            probs.append(comb(n_classifier, k) * error**k * (1-error)**(n_classifier - k)) # 254pg에 나와있는 에러율 구하는 수학공식을 코드로 변환\n",
    "    return sum(probs) # 에러율의 모든 합\n",
    "\n",
    "ensemble_error(n_classifier= 11, error= 0.25)"
   ]
  },
  {
   "cell_type": "markdown",
   "metadata": {},
   "source": [
    "### 해석\n",
    "개별 분류기의 에러율이 25%인 분류기를 앙상블 기법을 통해서 앙상블의 에러율을 구하는 함수를 만들었습니다. 앙상블 에러율을 구하는 함수는 이항 분포의 확률 질량 함수로 표현하여 254pg의 수학 공식을 코드로 변환하여 만들었습니다. \n",
    "결과값인 0.034(3.4%) 값을 보면 개별 분류기의 에러율이었던 25%보다 훨씬 개선이 되었음을 확인할 수 있습니다."
   ]
  },
  {
   "cell_type": "code",
   "execution_count": 4,
   "metadata": {},
   "outputs": [
    {
     "data": {
      "image/png": "[encoded data removed]",
      "text/plain": [
       "<Figure size 432x288 with 1 Axes>"
      ]
     },
     "metadata": {
      "needs_background": "light"
     },
     "output_type": "display_data"
    }
   ],
   "source": [
    "# 앙상블과 개별 분류기 에러 사이의 관계 그래프\n",
    "\n",
    "error_range = np.arange(0.0, 1.01, 0.01) # 에러율의 범위(0.0부터 1.0까지 0.01단위 간격의 리스트)\n",
    "ens_errors = [ensemble_error(n_classifier=11, error = error) for error in error_range] # 앙상블 에러율이 0.0 ~ 1.0에 걸쳐있을 때 에러율 계산\n",
    "\n",
    "plt.plot(error_range, ens_errors, label=\"Ensemble error\", linewidth=2) # 앙상블 에러\n",
    "plt.plot(error_range, error_range, linestyle = \"--\", label=\"Base error\", linewidth = 2) # 개별 분류기 에러\n",
    "\n",
    "# 나머지 그래프 설정\n",
    "plt.xlabel(\"Base error\")\n",
    "plt.ylabel(\"Base/Ensemble error\")\n",
    "plt.legend(loc=\"upper left\")\n",
    "plt.grid(alpha=0.5)\n",
    "plt.show()"
   ]
  },
  {
   "cell_type": "markdown",
   "metadata": {},
   "source": [
    "### 해석\n",
    "위에서 언급했던 앙상블 에러율 구하는 함수를 0.0부터 1.0까지의 범위속에서 반복문을 돌려 앙상블 에러율을 구했습니다. 이렇게 연속적인 앙상블 에러율을 통해 그래프를 그리고 기존의 개별 분류기의 에러율을 시각적으로 비교해보았습니다. \n",
    "결과 그래프에서 볼 수 있듯이 앙상블의 에러율은 개별 분류기의 에러율보다 항상 좋음을 볼 수 있습니다. 다만 분류기가 무작위 추측(에러율 0.5미만)보다 성능이 좋아야한다는 전제가 필요합니다."
   ]
  },
  {
   "cell_type": "markdown",
   "metadata": {},
   "source": [
    "## 다수결 투표를 사용한 분류 앙상블"
   ]
  },
  {
   "cell_type": "code",
   "execution_count": 5,
   "metadata": {},
   "outputs": [
    {
     "data": {
      "text/plain": [
       "0"
      ]
     },
     "execution_count": 5,
     "metadata": {},
     "output_type": "execute_result"
    }
   ],
   "source": [
    "# 최빈값 파악하는 argmax 함수(배열에서 가장 큰 값을 가진 위치의 인덱스 값을 반환)\n",
    "np.argmax(np.bincount([0, 0, 1], weights = [0.2, 0.2, 0.6])) # 0, 0, 1의 값들이 있는데 가중치를 씌움으로써 1인덱스의 값이 최빈값\n",
    "\n",
    "# argmax 와 average 함수를 사용한 다수결 투표 구현 샘플\n",
    "ex = np.array([[0.9, 0.1], \n",
    "               [0.8, 0.2],\n",
    "               [0.4, 0.6]]) # 3x2 행렬\n",
    "\n",
    "p = np.average(ex, axis=0, weights = [0.2, 0.2, 0.6]) # 행마다 가중치를 부여해서 열별로 평균을 구함\n",
    "\n",
    "np.argmax(p)"
   ]
  },
  {
   "cell_type": "markdown",
   "metadata": {},
   "source": [
    "### 해석\n",
    "0.9 * 0.2 + 0.8 * 0.2 + 0.4 * 0.6 = 0.58 \n",
    "0.1 * 0.2 + 0.2 * 0.2 + 0.6 * 0.6 = 0.42 \n",
    "가중치를 곱해서 계산하면 p는 가중 평균인 [0.58, 0.42]의 값이 나옵니다.\n",
    "이에 대해서 argmax로 최빈값을 계산하면 0.58의 가중이 있는 0 인덱스 값이 최빈값으로 반환됩니다."
   ]
  },
  {
   "cell_type": "code",
   "execution_count": 6,
   "metadata": {},
   "outputs": [],
   "source": [
    "# 다수결 투표 분류기 클래스 제작\n",
    "\n",
    "# : 여러 분류기에서 나온 결과물을 종합하여 다수결로 나온 최종 output을 결과물로 설정\n",
    "\n",
    "class MajorityVoteClassifier(BaseEstimator, ClassifierMixin):\n",
    "\n",
    "    # 생성자\n",
    "    def __init__(self, classifiers, vote = \"classlabel\", weights = None):\n",
    "        '''\n",
    "        classifiers = 앙상블에서 사용할 분류기  \n",
    "        '''\n",
    "        self.classifiers = classifiers\n",
    "        self.named_classifiers = {\n",
    "            key: value for key, value in _name_estimators(classifiers) # 분류기에 자동으로 이름을 세겨줍니다.\n",
    "        }\n",
    "        self.vote = vote\n",
    "        self.weights = weights\n",
    "        \n",
    "    # 분류기 학습    \n",
    "    def fit(self, X, y):\n",
    "        '''\n",
    "        X = 훈련 샘플 행렬\n",
    "        y = 타겟 클래스 레이블 벡터\n",
    "        '''\n",
    "        self.lablenc_ = LabelEncoder() # predict 함수에서 argmax 함수를 사용할 때, 클레스 레이블이 0부터 시작되어야해서 LabelEncoder 패키지 사용\n",
    "        self.lablenc_.fit(y)\n",
    "        self.classes_ = self.lablenc_.classes_\n",
    "        self.classifiers_ = []\n",
    "        \n",
    "        # 분류기를 반복문을 돌려 각 분류기에 대해 작업\n",
    "        for clf in self.classifiers:\n",
    "            fitted_clf = clone(clf).fit(X, self.lablenc_.transform(y)) # 분류기를 복제해서 학습을 돌림.\n",
    "            \n",
    "            self.classifiers_.append(fitted_clf) # 학습된 분류기를 리스트에 추가\n",
    "        \n",
    "        return self # 객체 반환\n",
    "    \n",
    "    # 예측\n",
    "    def predict(self, X):\n",
    "        '''\n",
    "        X = 샘플 데이터 행렬\n",
    "        maj_vote = 예측된 클래스 레이블\n",
    "        '''\n",
    "        if self.vote == \"probability\":\n",
    "            maj_vote = np.argmax(self.predict_proba(X), axis = 1) # 다수결의 결과는 클래스 소속확률을 기반으로 클래스 레이블을 예측함\n",
    "        \n",
    "        else: # classlabel 투표\n",
    "            predictions = np.array([clf.predict(X) for clf in self.classifiers_]).T # clf.predict 함수를 사용하여 각각의 분류기의 예측 결과를 모음.\n",
    "            \n",
    "            maj_vote = np.apply_along_axis(lambda x: np.argmax(np.bincount(x, weights = self.weights)), axis =1, arr = predictions) # 분류기의 예측 결과 리스트를 기반으로 람다함수를 돌려서 빈도값을 가중치를 적용해서 구함.\n",
    "            \n",
    "            maj_vote = self.lablenc_.inverse_transform(maj_vote) # inverse_transform 함수를 사용해서 분류기 예측 결과값을 숫자로 인코딩되어 있는걸 다시 문자열로 변환\n",
    "            \n",
    "            return maj_vote # 문자열 레이블의 예측 결과값을 반환\n",
    "        \n",
    "    # ROC AUC를 계산하기 위해 평균 확률을 반환하는 predict_proba 함수 사용\n",
    "    def predict_proba(self, X):\n",
    "        '''\n",
    "        X = 샘플 데이터 행렬\n",
    "        '''\n",
    "        \n",
    "        probas = np.asarray([clf.predict_proba(X) for clf in self.classifiers_]) # 분류기들에다가 확률 예측을 돌림\n",
    "        \n",
    "        avg_proba = np.average(probas, axis = 0, weights = self.weights) # 확률 예측값의 평균을 가중치를 씌워 평균을 냄\n",
    "        \n",
    "        return avg_proba\n",
    "    \n",
    "    # 파라미터 가져오기\n",
    "    def get_params(self, deep=True):\n",
    "        if not deep:\n",
    "            return super(MajorityVoteClassifier, self).get_params(deep=False)  # GridSearch를 위해 분류기의 매개변수 이름을 반환\n",
    "        \n",
    "        else:\n",
    "            out = self.named_classifiers.copy() # 명칭이 있는 분류기를 복사해서 변수 대입\n",
    "            \n",
    "            for name, step in six.iteritems(self.named_classifiers): # 분류기 반복\n",
    "                \n",
    "                for key, value in six.iteritems(step.get_params(deep=True)): # 분류기 이름을 가져와서 dic에 추가작업\n",
    "                    out[\"%s__%s\" % (name, key)] = value\n",
    "            \n",
    "            return out\n",
    "        "
   ]
  },
  {
   "cell_type": "markdown",
   "metadata": {},
   "source": [
    "## 다수결 투표 방식을 사용하여 예측 만들기"
   ]
  },
  {
   "cell_type": "code",
   "execution_count": 7,
   "metadata": {},
   "outputs": [
    {
     "name": "stdout",
     "output_type": "stream",
     "text": [
      "10-겹 교차검증:\n",
      "\n",
      "ROC AUC : 0.87 (+/- 0.17) [Logistic regression]\n",
      "ROC AUC : 0.89 (+/- 0.16) [Decision tree]\n",
      "ROC AUC : 0.88 (+/- 0.15) [KNN]\n"
     ]
    }
   ],
   "source": [
    "# 데이터 세팅\n",
    "iris = datasets.load_iris() \n",
    "\n",
    "X, y = iris.data[50:, [1, 2]], iris.target[50:] # X 는 꽂받침 너비와 꽃잎 길이 / y는 Iris-versicolor와 Iris-virginica 레이블\n",
    "le = LabelEncoder()\n",
    "y = le.fit_transform(y)\n",
    "\n",
    "X_train, X_test, y_train, y_test = train_test_split(X, y, test_size = 0.5, random_state = 1, stratify=y) # 테스트 데이터와 훈련 데이터를 50%로 나눔.\n",
    "\n",
    "\n",
    "# 이렇게 나눈 훈련 데이터를 갖고 앙상블로 분류기를 묶기 전에 성능 평가를 위해 서로 다른 3개의 분류기를 훈련합니다.\n",
    "\n",
    "\n",
    "# 로지스틱 회귀 분류기\n",
    "clf1 = LogisticRegression(solver=\"liblinear\", penalty=\"l2\", C=0.001, random_state = 1) # 역규제 파라미터를 0.001 수준으로 하는 로지스틱 회귀 분류기\n",
    "\n",
    "# 결정 트리 분류기 \n",
    "clf2 = DecisionTreeClassifier(max_depth = 1, criterion=\"entropy\", random_state=0) # 트리의 깊이가 1층이고 엔트로피를 기준으로 노드를 나누는 결정트리 분류기\n",
    "\n",
    "# k-최근접 이웃 분류기(KNN)\n",
    "clf3 = KNeighborsClassifier(n_neighbors=1, p=2, metric=\"minkowski\") # p=2이니 유클리디언 거리를 사용하는 KNN 기법을 사용해서 근접하는 이웃의 수는 1개인 분류기 제작\n",
    "\n",
    "pipe1 = Pipeline([[\"sc\", StandardScaler()], [\"clf\", clf1]]) # 로지스틱 회귀 분류기를 표준화 시킴\n",
    "\n",
    "pipe3 = Pipeline([[\"sc\", StandardScaler()], [\"clf\", clf3]]) # KNN 분류기를 표준화시킴\n",
    "\n",
    "clf_labels = [\"Logistic regression\", \"Decision tree\", \"KNN\"] # 분류기 네이밍\n",
    "\n",
    "print(\"10-겹 교차검증:\\n\")\n",
    "\n",
    "for clf, label in zip([pipe1, clf2, pipe3], clf_labels): # 각각의 분류기에 대해 처리를 위해 분류기에 대해 반복문을 돌림.\n",
    "    \n",
    "    scores = cross_val_score(estimator=clf,\n",
    "                             X=X_train,\n",
    "                             y= y_train,\n",
    "                             cv=10,      # 10겹\n",
    "                             scoring=\"roc_auc\") # 교차검증을 통해 점수를 평가하는 함수로 각각의 분류기에 대해 X와 y 훈련데이터를 돌려가며 roc auc() 성능을 평가\n",
    "    \n",
    "    print(\"ROC AUC : %0.2f (+/- %0.2f) [%s]\" % (scores.mean(), scores.std(), label))"
   ]
  },
  {
   "cell_type": "markdown",
   "metadata": {},
   "source": [
    "### 해석\n",
    "\n",
    "붓꽃 데이터를 기반으로 훈련데이터와 테스트 데이터를 나눠서 분류기들의 성능을 평가해보았습니다. 분류기의 종류는 총 3가지로 로지스틱 회귀 분류기, 결정트리 분류기, k-최근접 이웃 분류기입니다. 이전에 했듯이 사이킷런 내 함수를 이용해서 각 클래스에 맞는 분류기를 생성해주었습니다. 그리고 pipeline 클래스로 표준화를 시켜주고 교차검증을 통해 성능을 평가했습니다. 성능 평가의 목적은 이러한 개별 분류기들 이외에 이러한 분류기를 합쳐 다수결 방식으로 만든 앙상블의 방식이 얼마나 성능이 좋은지 평가하기 위해 이전에 성능평가를 진행한 것입니다."
   ]
  },
  {
   "cell_type": "code",
   "execution_count": 8,
   "metadata": {},
   "outputs": [
    {
     "name": "stdout",
     "output_type": "stream",
     "text": [
      "ROC AUC : 0.87 (+/- 0.17) [Logistic regression]\n",
      "ROC AUC : 0.89 (+/- 0.16) [Decision tree]\n",
      "ROC AUC : 0.88 (+/- 0.15) [KNN]\n",
      "ROC AUC : 0.94 (+/- 0.13) [Majority voting]\n"
     ]
    }
   ],
   "source": [
    "# 앙상블 성능 비교\n",
    "\n",
    "mv_clf = MajorityVoteClassifier(classifiers=[pipe1, clf2, pipe3]) # 앙상블 방식처럼 위에 사용된 3개의 분류기를 파라미터에 추가합니다.\n",
    "\n",
    "clf_labels += [\"Majority voting\"] # 분류기 이름에 다수결 앙상블 분류기 이름을 추가\n",
    "\n",
    "all_clf = [pipe1, clf2, pipe3, mv_clf] # 분류기들\n",
    "\n",
    "for clf, label in zip(all_clf, clf_labels): \n",
    "    \n",
    "    scores = cross_val_score(estimator=clf,\n",
    "                             X=X_train,\n",
    "                             y= y_train,\n",
    "                             cv=10,      # 10겹\n",
    "                             scoring=\"roc_auc\") # 위와 같이 교차검증을 통해 스코어를 기록합니다.\n",
    "    \n",
    "    print(\"ROC AUC : %0.2f (+/- %0.2f) [%s]\" % (scores.mean(), scores.std(), label))"
   ]
  },
  {
   "cell_type": "markdown",
   "metadata": {},
   "source": [
    "### 해석\n",
    "\n",
    "세 가지 분류기 말고 이번엔 다수결 투표 방식을 이용한 앙상블 분류기를 추가했습니다. 같은 방식으로 성능을 비교해보았는데 MajorityVoteClassifier의 성능이 가장 좋은 것을 확인할 수 있습니다."
   ]
  },
  {
   "cell_type": "markdown",
   "metadata": {},
   "source": [
    "# 앙상블 분류기의 평가와 튜닝"
   ]
  },
  {
   "cell_type": "code",
   "execution_count": 9,
   "metadata": {},
   "outputs": [
    {
     "data": {
      "image/png": "[encoded data removed]",
      "text/plain": [
       "<Figure size 432x288 with 1 Axes>"
      ]
     },
     "metadata": {
      "needs_background": "light"
     },
     "output_type": "display_data"
    }
   ],
   "source": [
    "colors = [\"black\", \"orange\", \"blue\", \"green\"] # 선의 색상\n",
    "linestyles = [\":\", \"--\", \"-.\", \"-\"] # 선의 모양\n",
    "\n",
    "for clf, label, clr, ls in zip(all_clf, clf_labels, colors, linestyles): \n",
    "    \n",
    "    y_pred = clf.fit(X_train, y_train).predict_proba(X_test)[:, 1] # 훈련 데이터로 학습한 모델으로 X 테스트 데이터를 이용해서 y 값을 예측\n",
    "    \n",
    "    fpr, tpr, thresholds = roc_curve(y_true=y_test, y_score=y_pred) # roc 곡선에서 x, y값을 위에서 예측한 값을 이용해서 추출\n",
    "    \n",
    "    roc_auc = auc(x=fpr, y=tpr) # roc 곡선 아래 영역(auc)에 대해 위 roc 곡선값을 통해 추출\n",
    "    plt.plot(fpr, tpr, color=clr, linestyle=ls, label=\"%s (auc = %0.2f)\" % (label, roc_auc)) # 위 데이터들을 기반으로 ROC 곡선을 그림\n",
    "\n",
    "# 기타 plot 세팅\n",
    "plt.legend(loc=\"lower right\")\n",
    "plt.plot([0 ,1], [0, 1], linestyle=\"--\", color = \"grey\", linewidth = 2)\n",
    "plt.xlim([-0.1, 1.1])\n",
    "plt.ylim([-0.1, 1.1])\n",
    "plt.grid(alpha=0.5)\n",
    "plt.xlabel(\"False positive rate (FPR)\")\n",
    "plt.ylabel(\"True positive rate (TPR)\")\n",
    "plt.show()"
   ]
  },
  {
   "cell_type": "markdown",
   "metadata": {},
   "source": [
    "### 해석\n",
    "\n",
    "MajorityVoteClassifier 의 일반화 성능을 확인하기 위해 ROC 곡선을 그려보았습니다. ROC 곡선에서 보듯이 앙상블 분류기는 데스트 데이터에서도 0.95의 수치처럼 좋은 성능을 내고 있음을 볼 수 있습니다."
   ]
  },
  {
   "cell_type": "code",
   "execution_count": 21,
   "metadata": {},
   "outputs": [
    {
     "data": {
      "image/png": "[encoded data removed]",
      "text/plain": [
       "<Figure size 504x360 with 4 Axes>"
      ]
     },
     "metadata": {
      "needs_background": "light"
     },
     "output_type": "display_data"
    }
   ],
   "source": [
    "# 앙상블 분류기의 결정 경계 비교\n",
    "\n",
    "sc = StandardScaler() # 표준화\n",
    "X_train_std = sc.fit_transform(X_train) # x 훈련 데이터를 표준화해서 성능을 높임.\n",
    "\n",
    "x_min = X_train_std[:, 0].min() -1 # x의 최솟값\n",
    "x_max = X_train_std[:, 0].max() +1 # x의 최댓값\n",
    "y_min = X_train_std[:, 1].min() -1 # y의 최솟값\n",
    "y_max = X_train_std[:, 1].max() +1 # y의 최댓값\n",
    "\n",
    "xx, yy = np.meshgrid(np.arange(x_min, x_max, 0.1), np.arange(y_min, y_max, 0.1)) # x최솟값, 최댓값과 y 최솟값과 최댓값을 그리드에 배치\n",
    "\n",
    "f, axarr = plt.subplots(nrows = 2, ncols = 2, sharex = \"col\", sharey = \"row\", figsize = (7, 5)) # 그래프 4개를 배치\n",
    "\n",
    "for idx, clf, tt in zip(product([0, 1], [0, 1]), all_clf, clf_labels): # [0, 1]과 [0, 1]의 곱집합(모든 조합)과 모든 분류기, 분류기 이름을 가지고 반복문을 돌림.\n",
    "    \n",
    "    clf.fit(X_train_std, y_train) # 각 분류기에 대해서 표준화한 x와 y 훈련 데이터로 학습을 시킴.\n",
    "    \n",
    "    Z = clf.predict(np.c_[xx.ravel(), yy.ravel()]) # 분류기로 나온 식으로 예측값을 xx값을 1차원 배열로 바꾼 벡터와 yy를 1차원 배열로 바꾼 벡터를 열에 추가\n",
    "    Z = Z.reshape(xx.shape) # 이렇게 나온 예측값 벡터를 -1, 1 행렬로 변환\n",
    "    \n",
    "    axarr[idx[0], idx[1]].contourf(xx, yy, Z, alpha=0.3) # 각 빈 그래프에다가 예측 벡터값으로 등고선맵을 그림\n",
    "    \n",
    "    axarr[idx[0], idx[1]].scatter(X_train_std[y_train == 0, 0], # 등고선맵을 그린 후 versicolor(y_train = 0)인 것에 파란 세모로 표시\n",
    "                                 X_train_std[y_train == 0, 1],\n",
    "                                 c = \"blue\",\n",
    "                                 marker =\"^\",\n",
    "                                 s = 50)\n",
    "    \n",
    "    axarr[idx[0], idx[1]].scatter(X_train_std[y_train == 1, 0], # virginica(y_train = 1)인 것에 초록 동그라미로 표시\n",
    "                                 X_train_std[y_train == 1, 1],\n",
    "                                 c = \"green\",\n",
    "                                 marker =\"o\",\n",
    "                                 s = 50)\n",
    "    \n",
    "    axarr[idx[0], idx[1]].set_title(tt) # 각각의 그래프에다가 어떤 분류기가 사용되었는지 이름을 달아줌.\n",
    "\n",
    "plt.text(-3.5, -5.5, s = \"Sepal width [standardized]\", ha = \"center\", va = \"center\", fontsize =12) # x 축의 이름 위치 배정\n",
    "plt.text(-13.5, 4.5, s = \"Pepal length [standardized]\", ha = \"center\", va = \"center\", fontsize =12, rotation = 90) # y 축의 이름 위치 배정\n",
    "plt.show()"
   ]
  },
  {
   "cell_type": "markdown",
   "metadata": {},
   "source": [
    "### 해석\n",
    "\n",
    "위에 나온 그래프에서 점들의 위치는 당연히 같은 점들을 찍었기에 동일하지만, 분류기에 따라 성능이 다르기에 결정 경계 부분이 다른 것을 볼 수 있습니다. 그 중 앙상블 분류기인 MajorityVoting 부분은 위 개별 분류기의 결정 경계를 혼합한 것처럼 보입니다. 다수결 투표 결정 경계는 Sepal Width이 1이상인 부분을 기준으로 x 축과 평행하게 그어진 결정트리와 모양이 비슷해 보입니다.(KNN과도 비슷하게 보입니다.) 중간부분은 KNN 분류기와 닮았고 Sepal Width가 0미만인 경우는 다시 결정 트리와 비슷해지는 모습을 볼 수 있습니다. "
   ]
  },
  {
   "cell_type": "code",
   "execution_count": 15,
   "metadata": {},
   "outputs": [
    {
     "data": {
      "text/plain": [
       "{'pipeline-1': Pipeline(memory=None,\n",
       "          steps=[('sc',\n",
       "                  StandardScaler(copy=True, with_mean=True, with_std=True)),\n",
       "                 ['clf',\n",
       "                  LogisticRegression(C=0.001, class_weight=None, dual=False,\n",
       "                                     fit_intercept=True, intercept_scaling=1,\n",
       "                                     l1_ratio=None, max_iter=100,\n",
       "                                     multi_class='warn', n_jobs=None,\n",
       "                                     penalty='l2', random_state=1,\n",
       "                                     solver='liblinear', tol=0.0001, verbose=0,\n",
       "                                     warm_start=False)]],\n",
       "          verbose=False),\n",
       " 'decisiontreeclassifier': DecisionTreeClassifier(class_weight=None, criterion='entropy', max_depth=1,\n",
       "                        max_features=None, max_leaf_nodes=None,\n",
       "                        min_impurity_decrease=0.0, min_impurity_split=None,\n",
       "                        min_samples_leaf=1, min_samples_split=2,\n",
       "                        min_weight_fraction_leaf=0.0, presort=False,\n",
       "                        random_state=0, splitter='best'),\n",
       " 'pipeline-2': Pipeline(memory=None,\n",
       "          steps=[('sc',\n",
       "                  StandardScaler(copy=True, with_mean=True, with_std=True)),\n",
       "                 ['clf',\n",
       "                  KNeighborsClassifier(algorithm='auto', leaf_size=30,\n",
       "                                       metric='minkowski', metric_params=None,\n",
       "                                       n_jobs=None, n_neighbors=1, p=2,\n",
       "                                       weights='uniform')]],\n",
       "          verbose=False),\n",
       " 'pipeline-1__memory': None,\n",
       " 'pipeline-1__steps': [('sc',\n",
       "   StandardScaler(copy=True, with_mean=True, with_std=True)),\n",
       "  ['clf',\n",
       "   LogisticRegression(C=0.001, class_weight=None, dual=False, fit_intercept=True,\n",
       "                      intercept_scaling=1, l1_ratio=None, max_iter=100,\n",
       "                      multi_class='warn', n_jobs=None, penalty='l2',\n",
       "                      random_state=1, solver='liblinear', tol=0.0001, verbose=0,\n",
       "                      warm_start=False)]],\n",
       " 'pipeline-1__verbose': False,\n",
       " 'pipeline-1__sc': StandardScaler(copy=True, with_mean=True, with_std=True),\n",
       " 'pipeline-1__clf': LogisticRegression(C=0.001, class_weight=None, dual=False, fit_intercept=True,\n",
       "                    intercept_scaling=1, l1_ratio=None, max_iter=100,\n",
       "                    multi_class='warn', n_jobs=None, penalty='l2',\n",
       "                    random_state=1, solver='liblinear', tol=0.0001, verbose=0,\n",
       "                    warm_start=False),\n",
       " 'pipeline-1__sc__copy': True,\n",
       " 'pipeline-1__sc__with_mean': True,\n",
       " 'pipeline-1__sc__with_std': True,\n",
       " 'pipeline-1__clf__C': 0.001,\n",
       " 'pipeline-1__clf__class_weight': None,\n",
       " 'pipeline-1__clf__dual': False,\n",
       " 'pipeline-1__clf__fit_intercept': True,\n",
       " 'pipeline-1__clf__intercept_scaling': 1,\n",
       " 'pipeline-1__clf__l1_ratio': None,\n",
       " 'pipeline-1__clf__max_iter': 100,\n",
       " 'pipeline-1__clf__multi_class': 'warn',\n",
       " 'pipeline-1__clf__n_jobs': None,\n",
       " 'pipeline-1__clf__penalty': 'l2',\n",
       " 'pipeline-1__clf__random_state': 1,\n",
       " 'pipeline-1__clf__solver': 'liblinear',\n",
       " 'pipeline-1__clf__tol': 0.0001,\n",
       " 'pipeline-1__clf__verbose': 0,\n",
       " 'pipeline-1__clf__warm_start': False,\n",
       " 'decisiontreeclassifier__class_weight': None,\n",
       " 'decisiontreeclassifier__criterion': 'entropy',\n",
       " 'decisiontreeclassifier__max_depth': 1,\n",
       " 'decisiontreeclassifier__max_features': None,\n",
       " 'decisiontreeclassifier__max_leaf_nodes': None,\n",
       " 'decisiontreeclassifier__min_impurity_decrease': 0.0,\n",
       " 'decisiontreeclassifier__min_impurity_split': None,\n",
       " 'decisiontreeclassifier__min_samples_leaf': 1,\n",
       " 'decisiontreeclassifier__min_samples_split': 2,\n",
       " 'decisiontreeclassifier__min_weight_fraction_leaf': 0.0,\n",
       " 'decisiontreeclassifier__presort': False,\n",
       " 'decisiontreeclassifier__random_state': 0,\n",
       " 'decisiontreeclassifier__splitter': 'best',\n",
       " 'pipeline-2__memory': None,\n",
       " 'pipeline-2__steps': [('sc',\n",
       "   StandardScaler(copy=True, with_mean=True, with_std=True)),\n",
       "  ['clf',\n",
       "   KNeighborsClassifier(algorithm='auto', leaf_size=30, metric='minkowski',\n",
       "                        metric_params=None, n_jobs=None, n_neighbors=1, p=2,\n",
       "                        weights='uniform')]],\n",
       " 'pipeline-2__verbose': False,\n",
       " 'pipeline-2__sc': StandardScaler(copy=True, with_mean=True, with_std=True),\n",
       " 'pipeline-2__clf': KNeighborsClassifier(algorithm='auto', leaf_size=30, metric='minkowski',\n",
       "                      metric_params=None, n_jobs=None, n_neighbors=1, p=2,\n",
       "                      weights='uniform'),\n",
       " 'pipeline-2__sc__copy': True,\n",
       " 'pipeline-2__sc__with_mean': True,\n",
       " 'pipeline-2__sc__with_std': True,\n",
       " 'pipeline-2__clf__algorithm': 'auto',\n",
       " 'pipeline-2__clf__leaf_size': 30,\n",
       " 'pipeline-2__clf__metric': 'minkowski',\n",
       " 'pipeline-2__clf__metric_params': None,\n",
       " 'pipeline-2__clf__n_jobs': None,\n",
       " 'pipeline-2__clf__n_neighbors': 1,\n",
       " 'pipeline-2__clf__p': 2,\n",
       " 'pipeline-2__clf__weights': 'uniform'}"
      ]
     },
     "execution_count": 15,
     "metadata": {},
     "output_type": "execute_result"
    }
   ],
   "source": [
    "# GridSearchCV 객체 안 매개변수 접근\n",
    "\n",
    "mv_clf.get_params() # 위에서 생성한 getparams 함수를 이용해서 객체 안 매개변수 접근을 해봅니다. "
   ]
  },
  {
   "cell_type": "markdown",
   "metadata": {},
   "source": [
    "### 해석\n",
    "실행한 위 코드를 보면 pipeline-1~~ 하는 부분엣 개별 분류기의 속성에 접근하는 방법을 알 수 있습니다. \n",
    "예시를 보이기 위해 그리드 서치로 로지스틱 회귀 분류기의 규제 매개변수 C와 결정 트리의 깊이를 튜닝 해볼 수 있습니다."
   ]
  },
  {
   "cell_type": "code",
   "execution_count": 62,
   "metadata": {},
   "outputs": [
    {
     "name": "stdout",
     "output_type": "stream",
     "text": [
      "0.944+/-0.00 {'decisiontreeclassifier__max_depth': 1, 'pipeline-1__clf__C': 0.001}\n",
      "0.956+/-0.00 {'decisiontreeclassifier__max_depth': 1, 'pipeline-1__clf__C': 0.1}\n",
      "0.978+/-0.00 {'decisiontreeclassifier__max_depth': 1, 'pipeline-1__clf__C': 100.0}\n",
      "0.956+/-0.00 {'decisiontreeclassifier__max_depth': 2, 'pipeline-1__clf__C': 0.001}\n",
      "0.956+/-0.00 {'decisiontreeclassifier__max_depth': 2, 'pipeline-1__clf__C': 0.1}\n",
      "0.978+/-0.00 {'decisiontreeclassifier__max_depth': 2, 'pipeline-1__clf__C': 100.0}\n",
      "\n",
      "최적의 매개변수 : {'decisiontreeclassifier__max_depth': 1, 'pipeline-1__clf__C': 100.0}\n",
      "\n",
      "정확도 : 0.98\n"
     ]
    }
   ],
   "source": [
    "params = {\"decisiontreeclassifier__max_depth\" : [1, 2], \"pipeline-1__clf__C\" : [0.001, 0.1, 100.0]}\n",
    "\n",
    "grid= GridSearchCV(estimator=mv_clf,\n",
    "                  param_grid=params,\n",
    "                  cv=10,\n",
    "                  scoring=\"roc_auc\",\n",
    "                  iid=False)\n",
    "\n",
    "grid.fit(X_train, y_train)\n",
    "\n",
    "### 책에 있는 부분에 문제가 있어서 적합한 코드를 대체해서 적습니다.\n",
    "all_mean_score = grid.cv_results_[\"mean_test_score\"]\n",
    "all_params = grid.cv_results_[\"params\"]\n",
    "all_scores = grid.cv_results_[\"std_test_score\"]\n",
    "\n",
    "for params, mean_score, scores in zip(all_params, all_mean_score, all_scores): # 현재 사이킷런에서 책에서 사용되는 함수 grid_scores_ 는 deprecated 돼서 사용불가합니다. cv_results 로 대체합니다\n",
    "    print(\"%0.3f+/-%0.2f %r\" % (mean_score, scores.std() / 2, params)) #  특정 매개변수 값일 때 성능을 오차범위를 계산해서 반환\n",
    "    \n",
    "print()\n",
    "print(\"최적의 매개변수 : %s\\n\" % grid.best_params_) # 위에서 그리드 서치를 통해 돌려본 바로 결정 트리의 깊이가 어느정도일 때, 그리고 로지스틱 회귀분류기의 규제 매개변수가 어느정도 일 때 가장 성능이 좋다를 표시\n",
    "print(\"정확도 : %.2f\" % grid.best_score_) # 그렇게 해서 나온 최고의 성능(얼마나 잘 분류했는지)을 반환"
   ]
  },
  {
   "cell_type": "markdown",
   "metadata": {},
   "source": [
    "### 해석\n",
    "\n",
    "GridSearchCV 외장함수를 통해서 로지스틱 회귀 분류기의 규제 매개변수인 C와 결정트리의 깊이를 튜닝(더 나은 성능을 위함)해보았습니다. \n",
    "그리드 서치 클래스를 이용해서 특정 매개변수를 상단에 지정해주고 이러한 매개변수를 어떻게 설정해야 최적의 성능을 낼 수 있는지 반복문을 돌려봤습니다. 돌려본 결과 결정트리의 깊이는 1개일 때와 로지스틱 회귀에서 규제 파라미터는 100(규제 강도가 가장 낮을 때)일 때 최적의 성능을 낼 수 있음을 알 수 있습니다. 마지막으로 이렇게 튜닝을 한 후 분류기의 성능은 98%로 매우 잘 분류하는 것을 확인가능합니다."
   ]
  },
  {
   "cell_type": "markdown",
   "metadata": {},
   "source": [
    "## 배깅 : 부트스트랩 샘플링을 통한 분류 앙상블"
   ]
  },
  {
   "cell_type": "code",
   "execution_count": 74,
   "metadata": {},
   "outputs": [],
   "source": [
    "# 데이터 불러오기\n",
    "\n",
    "df_wine = pd.read_csv('https://archive.ics.uci.edu/ml/'\n",
    "                      'machine-learning-databases/wine/wine.data',\n",
    "                      header=None)\n",
    "\n",
    "# 컬럼의 이름\n",
    "df_wine.columns = ['Class label', 'Alcohol', 'Malic acid', 'Ash',\n",
    "                   'Alcalinity of ash', 'Magnesium', 'Total phenols',\n",
    "                   'Flavanoids', 'Nonflavanoid phenols', 'Proanthocyanins',\n",
    "                   'Color intensity', 'Hue', 'OD280/OD315 of diluted wines',\n",
    "                   'Proline']\n",
    "\n",
    "# 클래스 1 제외하기\n",
    "df_wine = df_wine[df_wine['Class label'] != 1]\n",
    "\n",
    "# x, y 에 각각 데이터 배치\n",
    "y = df_wine['Class label'].values\n",
    "X = df_wine[['Alcohol', 'OD280/OD315 of diluted wines']].values"
   ]
  },
  {
   "cell_type": "code",
   "execution_count": 72,
   "metadata": {},
   "outputs": [],
   "source": [
    "le = LabelEncoder() # 레이블을 변환해주는 외장함수\n",
    "y = le.fit_transform(y) # 레이블을 글자에서 숫자로 변환\n",
    "\n",
    "X_train, X_test, y_train, y_test =\\\n",
    "            train_test_split(X, y, \n",
    "                             test_size=0.2, \n",
    "                             random_state=1,\n",
    "                             stratify=y) # 데이터를 20%를 테스트 데이터, 훈련데이터를 80% 로 분배"
   ]
  },
  {
   "cell_type": "code",
   "execution_count": 79,
   "metadata": {},
   "outputs": [],
   "source": [
    "tree = DecisionTreeClassifier(criterion='entropy', \n",
    "                              max_depth=None,\n",
    "                              random_state=1) # 엔트로피 기준으로 깊이가 없는 결정 트리 분류기 클래스를 초기화\n",
    "\n",
    "bag = BaggingClassifier(base_estimator=tree, \n",
    "                        n_estimators=500, \n",
    "                        max_samples=1.0, \n",
    "                        max_features=1.0, \n",
    "                        bootstrap=True, \n",
    "                        bootstrap_features=False, \n",
    "                        n_jobs=1, \n",
    "                        random_state=1) # 분류기는 500개의 가지치기가 없는 결정트리를 사용. "
   ]
  },
  {
   "cell_type": "code",
   "execution_count": 80,
   "metadata": {},
   "outputs": [
    {
     "name": "stdout",
     "output_type": "stream",
     "text": [
      "결정 트리의 훈련 정확도/테스트 정확도 1.000/0.833\n",
      "배깅의 훈련 정확도/테스트 정확도 1.000/0.917\n"
     ]
    }
   ],
   "source": [
    "tree = tree.fit(X_train, y_train) # x, y 훈련데이터로 결정트리 분류기를 학습\n",
    "y_train_pred = tree.predict(X_train) # x 훈련 데이터의 예측값\n",
    "y_test_pred = tree.predict(X_test) # y 테스트 데이터의 예측값\n",
    "\n",
    "tree_train = accuracy_score(y_train, y_train_pred) # 훈련데이터의 관측값과 예측값을 통해서 분류를 얼마나 잘했는지 평가\n",
    "tree_test = accuracy_score(y_test, y_test_pred) # 테스트 데이터의 관측값과 예측값을 통해서 분류를 얼마나 잘했는지 평가\n",
    "\n",
    "print('결정 트리의 훈련 정확도/테스트 정확도 %.3f/%.3f'\n",
    "      % (tree_train, tree_test)) # 분류 성능을 반환\n",
    "\n",
    "bag = bag.fit(X_train, y_train) # 배깅으로 훈련데이터를 학습\n",
    "y_train_pred = bag.predict(X_train) # y 훈련 데이터의 예측값을 위 배깅 식을 통해 도출\n",
    "y_test_pred = bag.predict(X_test) # y 데스트 데이터의 예측값을 위 배깅 식을 통해 도출\n",
    "\n",
    "bag_train = accuracy_score(y_train, y_train_pred) # 배깅을 통한 훈련 데이터의 분류 성능 측정\n",
    "bag_test = accuracy_score(y_test, y_test_pred) # 배깅을 통한 테스트 데이터의 분류 성능 측정\n",
    "\n",
    "print('배깅의 훈련 정확도/테스트 정확도 %.3f/%.3f'\n",
    "      % (bag_train, bag_test))"
   ]
  },
  {
   "cell_type": "markdown",
   "metadata": {},
   "source": [
    "### 해석\n",
    "\n",
    "배깅(bootstrap aggregating)은 이전에 배웠던 다수결 투표 방식의 앙상블과 밀접한 방식의 앙상블 기법입니다. 다수결 투표 앙상블에서 개별 분류기를 동일한 훈련 데이터로 학습하는 것이 아닌 기존 훈련 데이터에서 부트스트랩 샘플(중복을 허용해서 랜덤으로 뽑은 샘플)을 사용합니다. \n",
    "위에서 결정트리의 성능과 배깅의 성능을 비교해보았습니다. 출력된 정확도 값을 확인해보면 결정트리보다 정확도가 높은 것을 확인할 수 있습니다."
   ]
  },
  {
   "cell_type": "code",
   "execution_count": 81,
   "metadata": {},
   "outputs": [
    {
     "data": {
      "image/png": "[encoded data removed]",
      "text/plain": [
       "<Figure size 576x216 with 2 Axes>"
      ]
     },
     "metadata": {
      "needs_background": "light"
     },
     "output_type": "display_data"
    }
   ],
   "source": [
    "# 결정트리와 배깅의 결정경계 비교\n",
    "\n",
    "x_min = X_train[:, 0].min() - 1 # x 훈련 최솟값\n",
    "x_max = X_train[:, 0].max() + 1 # x 훈련 최댓값\n",
    "y_min = X_train[:, 1].min() - 1 # y 훈련 최솟값\n",
    "y_max = X_train[:, 1].max() + 1 # y 훈련 최댓값\n",
    "\n",
    "xx, yy = np.meshgrid(np.arange(x_min, x_max, 0.1),\n",
    "                     np.arange(y_min, y_max, 0.1)) # 위에서 정한 x, y 최솟값, 최댓값으로 그리드 프레임을 만듬\n",
    "\n",
    "f, axarr = plt.subplots(nrows=1, ncols=2, \n",
    "                        sharex='col', \n",
    "                        sharey='row', \n",
    "                        figsize=(8, 3)) # 2개의 빈 그래프를 만듬(1행 2열)\n",
    "\n",
    "\n",
    "for idx, clf, tt in zip([0, 1],\n",
    "                        [tree, bag],\n",
    "                        ['Decision tree', 'Bagging']): # 결정트리와 배깅에 대해서 반복문 돌림.\n",
    "    \n",
    "    clf.fit(X_train, y_train) # 각 분류기에 대해 훈련 데이터를 학습함.\n",
    "\n",
    "    Z = clf.predict(np.c_[xx.ravel(), yy.ravel()]) # xx, yy 1차원 배열로 변환해서 열에 추가해서 분류기에 예측을 돌림.\n",
    "    Z = Z.reshape(xx.shape) # -1, 1 행렬을 변환\n",
    "\n",
    "    axarr[idx].contourf(xx, yy, Z, alpha=0.3) # 각 빈 그래프에다가 예측 벡터값으로 등고선맵을 그림\n",
    "    axarr[idx].scatter(X_train[y_train == 0, 0], # 빈 그래프에다 y_train이 versicolor인 경우는 파란 세모 산점도를 그려줌.\n",
    "                       X_train[y_train == 0, 1],\n",
    "                       c='blue', marker='^')\n",
    "\n",
    "    axarr[idx].scatter(X_train[y_train == 1, 0],# 빈 그래프에다 y_train이 virginica 경우는 초록 동근 산점도를 그려줌.\n",
    "                       X_train[y_train == 1, 1],\n",
    "                       c='green', marker='o')\n",
    "\n",
    "    axarr[idx].set_title(tt) # 각 그래프에다가ㅏ 분류기 이름을 달아줌.\n",
    "\n",
    "axarr[0].set_ylabel('Alcohol', fontsize=12) # y축 레이블 지정\n",
    "plt.text(10.2, -0.5,\n",
    "         s='OD280/OD315 of diluted wines',\n",
    "         ha='center', va='center', fontsize=12) # 글자 위치 지정\n",
    "\n",
    "plt.tight_layout()\n",
    "plt.show()"
   ]
  },
  {
   "cell_type": "markdown",
   "metadata": {},
   "source": [
    "### 해석\n",
    "\n",
    "결정 트리와 배깅, 2개의 분류기를 기준으로 결정 경계 그래프를 그려보았습니다. 그려본 결과, 산점도는 같은 데이터이기에 상관이 없고 결정경계를 보면 배깅 부분이 더욱 부드럽게 경계가 지어져 있습니다."
   ]
  }
 ],
 "metadata": {
  "kernelspec": {
   "display_name": "Python 3",
   "language": "python",
   "name": "python3"
  },
  "language_info": {
   "codemirror_mode": {
    "name": "ipython",
    "version": 3
   },
   "file_extension": ".py",
   "mimetype": "text/x-python",
   "name": "python",
   "nbconvert_exporter": "python",
   "pygments_lexer": "ipython3",
   "version": "3.7.6"
  }
 },
 "nbformat": 4,
 "nbformat_minor": 2
}
