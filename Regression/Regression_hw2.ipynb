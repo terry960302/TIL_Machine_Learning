{
 "cells": [
  {
   "cell_type": "code",
   "execution_count": 4,
   "metadata": {},
   "outputs": [
    {
     "data": {
      "text/html": [
       "<div>\n",
       "<style scoped>\n",
       "    .dataframe tbody tr th:only-of-type {\n",
       "        vertical-align: middle;\n",
       "    }\n",
       "\n",
       "    .dataframe tbody tr th {\n",
       "        vertical-align: top;\n",
       "    }\n",
       "\n",
       "    .dataframe thead th {\n",
       "        text-align: right;\n",
       "    }\n",
       "</style>\n",
       "<table border=\"1\" class=\"dataframe\">\n",
       "  <thead>\n",
       "    <tr style=\"text-align: right;\">\n",
       "      <th></th>\n",
       "      <th>minutes</th>\n",
       "      <th>copiers</th>\n",
       "    </tr>\n",
       "  </thead>\n",
       "  <tbody>\n",
       "    <tr>\n",
       "      <td>0</td>\n",
       "      <td>20</td>\n",
       "      <td>2</td>\n",
       "    </tr>\n",
       "    <tr>\n",
       "      <td>1</td>\n",
       "      <td>60</td>\n",
       "      <td>4</td>\n",
       "    </tr>\n",
       "    <tr>\n",
       "      <td>2</td>\n",
       "      <td>46</td>\n",
       "      <td>3</td>\n",
       "    </tr>\n",
       "    <tr>\n",
       "      <td>3</td>\n",
       "      <td>41</td>\n",
       "      <td>2</td>\n",
       "    </tr>\n",
       "    <tr>\n",
       "      <td>4</td>\n",
       "      <td>12</td>\n",
       "      <td>1</td>\n",
       "    </tr>\n",
       "  </tbody>\n",
       "</table>\n",
       "</div>"
      ],
      "text/plain": [
       "   minutes  copiers\n",
       "0       20        2\n",
       "1       60        4\n",
       "2       46        3\n",
       "3       41        2\n",
       "4       12        1"
      ]
     },
     "execution_count": 4,
     "metadata": {},
     "output_type": "execute_result"
    }
   ],
   "source": [
    "# 데이터 불러오기\n",
    "\n",
    "fileName = \"copier_maintenance.txt\"\n",
    "\n",
    "import pandas as pd\n",
    "\n",
    "file = pd.read_csv(fileName, sep = '\\t')\n",
    "\n",
    "\n",
    "file.head()"
   ]
  },
  {
   "cell_type": "code",
   "execution_count": 5,
   "metadata": {},
   "outputs": [
    {
     "name": "stdout",
     "output_type": "stream",
     "text": [
      "              sum_sq    df           F        PR(>F)\n",
      "minutes   325.974018   1.0  968.657196  4.009032e-31\n",
      "Residual   14.470427  43.0         NaN           NaN\n"
     ]
    }
   ],
   "source": [
    "# anova table\n",
    "\n",
    "import statsmodels.api as sm\n",
    "from statsmodels.formula.api import ols\n",
    "\n",
    "lm = ols('copiers ~ minutes', data=file).fit()\n",
    "\n",
    "table = sm.stats.anova_lm(lm, typ=2)\n",
    "\n",
    "print(table)"
   ]
  },
  {
   "cell_type": "code",
   "execution_count": 7,
   "metadata": {},
   "outputs": [
    {
     "name": "stdout",
     "output_type": "stream",
     "text": [
      "124.1985399787902\n",
      "1.6672258082258749e-18\n"
     ]
    }
   ],
   "source": [
    "# f-test\n",
    "\n",
    "from scipy.stats import f_oneway\n",
    "\n",
    "data1 = file[\"copiers\"]\n",
    "data2 = file[\"minutes\"]\n",
    "\n",
    "f_stat_value, p_value = f_oneway(data1, data2)\n",
    "\n",
    "print(f_stat_value) # 크다는 것은 여러 집단 간 차이가 크다는 것\n",
    "print(p_value) # "
   ]
  },
  {
   "cell_type": "code",
   "execution_count": 14,
   "metadata": {},
   "outputs": [
    {
     "data": {
      "image/png": "[encoded data removed]",
      "text/plain": [
       "<Figure size 432x288 with 1 Axes>"
      ]
     },
     "metadata": {
      "needs_background": "light"
     },
     "output_type": "display_data"
    }
   ],
   "source": [
    "# f-test\n",
    "\n",
    "import matplotlib.pyplot as plt\n",
    "\n",
    "# alpha = 0.05 #Or whatever you want your alpha to be.\n",
    "# p_value = f_oneway.cdf(f_stat_value, data1, data2)\n",
    "# if p_value > alpha:\n",
    "#     print(\"asdasd\")\n",
    "# else:\n",
    "#     print(\"a;;;;;\")\n",
    "plt.boxplot([data1, data2])\n",
    "plt.show()"
   ]
  }
 ],
 "metadata": {
  "kernelspec": {
   "display_name": "Python 3",
   "language": "python",
   "name": "python3"
  },
  "language_info": {
   "codemirror_mode": {
    "name": "ipython",
    "version": 3
   },
   "file_extension": ".py",
   "mimetype": "text/x-python",
   "name": "python",
   "nbconvert_exporter": "python",
   "pygments_lexer": "ipython3",
   "version": "3.7.4"
  }
 },
 "nbformat": 4,
 "nbformat_minor": 2
}
