{
 "cells": [
  {
   "cell_type": "code",
   "execution_count": 116,
   "metadata": {},
   "outputs": [],
   "source": [
    "## 패키지 설치\n",
    "import numpy as np"
   ]
  },
  {
   "cell_type": "code",
   "execution_count": 120,
   "metadata": {},
   "outputs": [
    {
     "name": "stdout",
     "output_type": "stream",
     "text": [
      "[0.16666666666666663, 0.16666666666666663, 0.16666666666666663, 0.07142857142857142, 0.07142857142857142, 0.07142857142857142, 0.07142857142857142, 0.07142857142857142, 0.07142857142857142, 0.07142857142857142]\n"
     ]
    }
   ],
   "source": [
    "# 1단계 정리\n",
    "\n",
    "y = [1, 1, 1, -1 , 1, -1, -1, 1, -1, -1] # +와 -를 구분하는 레이블\n",
    "d1 = [0.1, 0.1, 0.1, 0.1, 0.1,0.1,0.1,0.1,0.1,0.1,]\n",
    "h1 = [-1, -1, -1, -1, 1, -1,-1,  1, -1, -1] # 인디케이터 함수 돌린 값들\n",
    "\n",
    "\n",
    "# 에러 함수\n",
    "def getErr(y, d, h):\n",
    "    result = 0\n",
    "    for i in range(0, len(y)):\n",
    "        if y[i] != h[i]:\n",
    "            result += d[i] * 1\n",
    "    return result\n",
    "\n",
    "err1 = getErr(y, d1, h1)\n",
    "\n",
    "# 알파값 함수\n",
    "def getAlpha(err):\n",
    "    return 1/2 * np.log((1- err) / err)\n",
    "\n",
    "alpha1 = getAlpha(err1)\n",
    "\n",
    "# 지수함수 반환값 함수\n",
    "def getExp(y, d, h):\n",
    "    result = []\n",
    "    \n",
    "    for i in range(0, len(y)):\n",
    "        y_i = y[i]\n",
    "        h_i = h[i]\n",
    "        alpha = getAlpha(getErr(y, d, h))\n",
    "        \n",
    "        value = np.exp(-alpha * y_i * h_i)\n",
    "        \n",
    "        result.append(value)\n",
    "    return result\n",
    "\n",
    "exp1 = getExp(y, d1, h1)\n",
    "\n",
    "# 가중치와 지수함수 반환값의 곱 함수\n",
    "def get_d_x_exp(d, exp):\n",
    "    return [i*j for i, j in zip(d, exp)]\n",
    "        \n",
    "d_x_exp1 = get_d_x_exp(d1, exp1)\n",
    "\n",
    "# z값 함수\n",
    "def getZ(d_x_exp):\n",
    "    return sum(d_x_exp)\n",
    "\n",
    "z1 = getZ(d_x_exp1)\n",
    "\n",
    "# 가중치 업데이트 함수\n",
    "def getUpdatedWeight(d_x_exp, z):\n",
    "    return [i / z for i in d_x_exp]\n",
    "\n",
    "d2 = getUpdatedWeight(d_x_exp1, z1)"
   ]
  },
  {
   "cell_type": "code",
   "execution_count": 130,
   "metadata": {},
   "outputs": [],
   "source": [
    "# x => h 반환 함수\n",
    "\n",
    "# 원활한 계산을 위해 그림을 보고 x의 값을 임의로 지정해줍니다. \n",
    "# def getH(x):\n",
    "    "
   ]
  },
  {
   "cell_type": "code",
   "execution_count": 153,
   "metadata": {},
   "outputs": [
    {
     "name": "stdout",
     "output_type": "stream",
     "text": [
      "1단계\n",
      "err => 0.30000000000000004\n",
      "alpha => 0.4236489301936017\n",
      "e^-a1*yi*h1(xi) => [1.5275252316519465, 1.5275252316519465, 1.5275252316519465, 0.6546536707079772, 0.6546536707079772, 0.6546536707079772, 0.6546536707079772, 0.6546536707079772, 0.6546536707079772, 0.6546536707079772]\n"
     ]
    }
   ],
   "source": [
    "# 1단계\n",
    "y = [1, 1, 1, -1 , 1, -1, -1, 1, -1, -1] # +와 -를 구분하는 레이블\n",
    "d1 = [0.1, 0.1, 0.1, 0.1, 0.1,0.1,0.1,0.1,0.1,0.1]\n",
    "h1 = [-1, -1, -1, -1, 1, -1,-1,  1, -1, -1] # 인디케이터 함수 돌린 값들\n",
    "\n",
    "err1 = getErr(y, d1, h1)\n",
    "alpha1 = getAlpha(err1) \n",
    "exp1 = getExp(y, d1, h1) \n",
    "d_x_exp1 = get_d_x_exp(d1, exp1) \n",
    "z1 = getZ(d_x_exp1) \n",
    "\n",
    "print(\"1단계\")\n",
    "print(\"err => {0}\".format(err1))\n",
    "print(\"alpha => {0}\".format(alpha1))\n",
    "print(\"e^-a1*yi*h1(xi) => {0}\".format(exp1))\n",
    "\n",
    "# 2단계\n",
    "d2 = getUpdatedWeight(d_x_exp1, z1)\n",
    "h2 = [1, 1, 1, -1, 1, 1, 1, 1, 1, -1]\n",
    "\n",
    "err2 = getErr(y, d2, h2)\n",
    "alpha2 = getAlpha(err2)\n",
    "exp2 = getExp(y, d2, h2)\n",
    "d_x_exp2= get_d_x_exp(d2, exp2)\n",
    "z2 = getZ(d_x_exp2)\n",
    "\n",
    "# 3단계\n",
    "\n",
    "d3 = getUpdatedWeight(d_x_exp2, z2)\n",
    "h3 = [1, 1, 1, 1, -1, -1, -1, -1, -1, -1]\n",
    "\n",
    "err3 = getErr(y, d3, h3)\n",
    "alpha3 = getAlpha(err3)\n",
    "exp3 = getExp(y, d3, h3)\n",
    "d_x_exp3= get_d_x_exp(d3, exp3)\n",
    "z3 = getZ(d_x_exp3)"
   ]
  },
  {
   "cell_type": "code",
   "execution_count": 151,
   "metadata": {},
   "outputs": [
    {
     "name": "stdout",
     "output_type": "stream",
     "text": [
      "우측 상단 영역을 예측해봅시다. => -1.0\n"
     ]
    }
   ],
   "source": [
    "# 우측 상단 영역의 예측\n",
    "\n",
    "import math\n",
    "\n",
    "sign = lambda x: math.copysign(1, x)\n",
    "\n",
    "# 우측 상단 영역은 1단계 범위에 안들어가서 -1, 2단계 번위에도 안들어가서 -1, 3단계 범위엔 들어가서 1입니다.\n",
    "value = (-1) * alpha1 + (-1) * alpha2 + 1 * alpha3\n",
    "\n",
    "print(\"우측 상단 영역을 예측해봅시다. => {0}\".format(sign(value)))"
   ]
  },
  {
   "cell_type": "code",
   "execution_count": null,
   "metadata": {},
   "outputs": [],
   "source": [
    "'''\n",
    "<해석>\n",
    "에이다 부스트는 학습을 할 때 전체를 대상으로 훈련을 진행하고 오분류된 데이터에는 높은 가중치를, 제대로 분류된\n",
    "데이터들에 대해서는 낮은 자우치를 부여합니다. 그래서 높은 가중치에 대해서 집중적으로 학습을 하는 단계를 거칩니다.\n",
    "그리고 이렇게 단계를 거치면서 각 단계별로 서로 다른 가중치를 부여하게 되었는데, 다수결 투표 방식으로 학습기를 합칩니다.\n",
    "이렇게 합친 학습기를 바탕으로 위에서 언급했던 우측 상단 영역의 예측을 할 수 있습니다.\n",
    "'''"
   ]
  }
 ],
 "metadata": {
  "kernelspec": {
   "display_name": "Python 3",
   "language": "python",
   "name": "python3"
  },
  "language_info": {
   "codemirror_mode": {
    "name": "ipython",
    "version": 3
   },
   "file_extension": ".py",
   "mimetype": "text/x-python",
   "name": "python",
   "nbconvert_exporter": "python",
   "pygments_lexer": "ipython3",
   "version": "3.7.4"
  }
 },
 "nbformat": 4,
 "nbformat_minor": 2
}
