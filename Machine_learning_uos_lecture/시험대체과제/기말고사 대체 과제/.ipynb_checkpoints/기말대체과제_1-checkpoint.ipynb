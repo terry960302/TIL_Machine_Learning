{
 "cells": [
  {
   "cell_type": "markdown",
   "metadata": {},
   "source": [
    "## 패키지 설치"
   ]
  },
  {
   "cell_type": "code",
   "execution_count": 34,
   "metadata": {},
   "outputs": [
    {
     "name": "stderr",
     "output_type": "stream",
     "text": [
      "C:\\Users\\terry\\Anaconda3\\lib\\site-packages\\sklearn\\externals\\six.py:31: DeprecationWarning: The module is deprecated in version 0.21 and will be removed in version 0.23 since we've dropped support for Python 2.7. Please rely on the official version of six (https://pypi.org/project/six/).\n",
      "  \"(https://pypi.org/project/six/).\", DeprecationWarning)\n"
     ]
    }
   ],
   "source": [
    "from scipy.special import comb # combination 함수로 n개 중에 k개를 뽑는 가짓수를 계산할 때 사용\n",
    "import math\n",
    "import numpy as np\n",
    "import matplotlib.pyplot as plt\n",
    "from sklearn.base import BaseEstimator\n",
    "from sklearn.base import ClassifierMixin\n",
    "from sklearn.preprocessing import LabelEncoder\n",
    "from sklearn.externals import six\n",
    "from sklearn.base import clone\n",
    "from sklearn.pipeline import _name_estimators\n",
    "import operator"
   ]
  },
  {
   "cell_type": "markdown",
   "metadata": {},
   "source": [
    "## 앙상블 학습"
   ]
  },
  {
   "cell_type": "code",
   "execution_count": 11,
   "metadata": {},
   "outputs": [
    {
     "data": {
      "text/plain": [
       "0.03432750701904297"
      ]
     },
     "execution_count": 11,
     "metadata": {},
     "output_type": "execute_result"
    }
   ],
   "source": [
    "# 앙상블 에러율 함수(이항 분포의 확률 질량 함수로 표현)\n",
    "\n",
    "'''\n",
    "n_classifier = 전체 개수\n",
    "error = 분류기가 실패할 확률\n",
    "'''\n",
    "\n",
    "def ensemble_error(n_classifier, error):\n",
    "    k_start = int(math.ceil(n_classifier / 2.))  # 실패할 확률이 25% 일 때 11개의 분류기로 구성된 앙상블이 실패하려면 여섯개 이상이 실패해야함. 고로 n_classifier의 값에 따라 실패하려면 몇 개의 분류기가 실패해야하는지에 대한 값. \n",
    "\n",
    "    probs = [] # 분류기 에러 확률 리스트\n",
    "    for k in range(k_start, n_classifier + 1): # 분류기의 개수에 따라 에러 확률을 구해서 리스트에 넣어줌.\n",
    "            probs.append(comb(n_classifier, k) * error**k * (1-error)**(n_classifier - k)) # 254pg에 나와있는 에러율 구하는 수학공식을 코드로 변환\n",
    "    return sum(probs) # 에러율의 모든 합\n",
    "\n",
    "ensemble_error(n_classifier= 11, error= 0.25)"
   ]
  },
  {
   "cell_type": "markdown",
   "metadata": {},
   "source": [
    "### 해석\n",
    "개별 분류기의 에러율이 25%인 분류기를 앙상블 기법을 통해서 앙상블의 에러율을 구하는 함수를 만들었습니다. 앙상블 에러율을 구하는 함수는 이항 분포의 확률 질량 함수로 표현하여 254pg의 수학 공식을 코드로 변환하여 만들었습니다. \n",
    "결과값인 0.034(3.4%) 값을 보면 개별 분류기의 에러율이었던 25%보다 훨씬 개선이 되었음을 확인할 수 있습니다."
   ]
  },
  {
   "cell_type": "code",
   "execution_count": 17,
   "metadata": {},
   "outputs": [
    {
     "data": {
      "image/png": "[encoded data removed]",
      "text/plain": [
       "<Figure size 432x288 with 1 Axes>"
      ]
     },
     "metadata": {
      "needs_background": "light"
     },
     "output_type": "display_data"
    }
   ],
   "source": [
    "# 앙상블과 개별 분류기 에러 사이의 관계 그래프\n",
    "\n",
    "error_range = np.arange(0.0, 1.01, 0.01) # 에러율의 범위(0.0부터 1.0까지 0.01단위 간격의 리스트)\n",
    "ens_errors = [ensemble_error(n_classifier=11, error = error) for error in error_range] # 앙상블 에러율이 0.0 ~ 1.0에 걸쳐있을 때 에러율 계산\n",
    "\n",
    "plt.plot(error_range, ens_errors, label=\"Ensemble error\", linewidth=2) # 앙상블 에러\n",
    "plt.plot(error_range, error_range, linestyle = \"--\", label=\"Base error\", linewidth = 2) # 개별 분류기 에러\n",
    "\n",
    "# 나머지 그래프 설정\n",
    "plt.xlabel(\"Base error\")\n",
    "plt.ylabel(\"Base/Ensemble error\")\n",
    "plt.legend(loc=\"upper left\")\n",
    "plt.grid(alpha=0.5)\n",
    "plt.show()"
   ]
  },
  {
   "cell_type": "markdown",
   "metadata": {},
   "source": [
    "### 해석\n",
    "위에서 언급했던 앙상블 에러율 구하는 함수를 0.0부터 1.0까지의 범위속에서 반복문을 돌려 앙상블 에러율을 구했습니다. 이렇게 연속적인 앙상블 에러율을 통해 그래프를 그리고 기존의 개별 분류기의 에러율을 시각적으로 비교해보았습니다. \n",
    "결과 그래프에서 볼 수 있듯이 앙상블의 에러율은 개별 분류기의 에러율보다 항상 좋음을 볼 수 있습니다. 다만 분류기가 무작위 추측(에러율 0.5미만)보다 성능이 좋아야한다는 전제가 필요합니다."
   ]
  },
  {
   "cell_type": "markdown",
   "metadata": {},
   "source": [
    "## 다수결 투표를 사용한 분류 앙상블"
   ]
  },
  {
   "cell_type": "code",
   "execution_count": 45,
   "metadata": {},
   "outputs": [
    {
     "data": {
      "text/plain": [
       "0"
      ]
     },
     "execution_count": 45,
     "metadata": {},
     "output_type": "execute_result"
    }
   ],
   "source": [
    "# 최빈값 파악하는 argmax 함수(배열에서 가장 큰 값을 가진 위치의 인덱스 값을 반환)\n",
    "np.argmax(np.bincount([0, 0, 1], weights = [0.2, 0.2, 0.6])) # 0, 0, 1의 값들이 있는데 가중치를 씌움으로써 1인덱스의 값이 최빈값\n",
    "\n",
    "# argmax 와 average 함수를 사용한 다수결 투표 구현 샘플\n",
    "ex = np.array([[0.9, 0.1], \n",
    "               [0.8, 0.2],\n",
    "               [0.4, 0.6]]) # 3x2 행렬\n",
    "\n",
    "p = np.average(ex, axis=0, weights = [0.2, 0.2, 0.6]) # 행마다 가중치를 부여해서 열별로 평균을 구함\n",
    "\n",
    "np.argmax(p)"
   ]
  },
  {
   "cell_type": "markdown",
   "metadata": {},
   "source": [
    "### 해석\n",
    "0.9 * 0.2 + 0.8 * 0.2 + 0.4 * 0.6 = 0.58 \n",
    "0.1 * 0.2 + 0.2 * 0.2 + 0.6 * 0.6 = 0.42 \n",
    "가중치를 곱해서 계산하면 p는 가중 평균인 [0.58, 0.42]의 값이 나옵니다.\n",
    "이에 대해서 argmax로 최빈값을 계산하면 0.58의 가중이 있는 0 인덱스 값이 최빈값으로 반환됩니다."
   ]
  },
  {
   "cell_type": "code",
   "execution_count": 55,
   "metadata": {},
   "outputs": [],
   "source": [
    "# 다수결 투표 분류기 클래스 제작\n",
    "\n",
    "class MajorityVoteClassifier(BaseEstimator, ClassifierMixin):\n",
    "\n",
    "    # 생성자\n",
    "    def __init__(self, classifiers, vote = \"classlabel\", weights = None):\n",
    "        '''\n",
    "        classifiers = 앙상블에서 사용할 분류기  \n",
    "        '''\n",
    "        self.classifiers = classifiers\n",
    "        self.named_classifiers = {\n",
    "            key: value for key, value in _name_estimators(classifiers)\n",
    "        }\n",
    "        self.vote = vote\n",
    "        self.weights = weights\n",
    "        \n",
    "    # 분류기 학습    \n",
    "    def fit(self, X, y):\n",
    "        '''\n",
    "        X = 훈련 샘플 행렬\n",
    "        y = 타겟 클래스 레이블 벡터\n",
    "        '''\n",
    "        self.lablenc_ = LabelEncoder() # predict 함수에서 argmax 함수를 사용할 때, 클레스 레이블이 0부터 시작되어야해서 LabelEncoder 패키지 사용\n",
    "        self.lablenc_.fit(y)\n",
    "        self.classes_ = self.lablenc_.classes_\n",
    "        self.classifiers_ = []\n",
    "        \n",
    "        # 분류기를 반복문을 돌려 각 분류기에 대해 작업\n",
    "        for clf in self.classifiers:\n",
    "            fitted_clf = clone(clf).fit(X, self.lablenc_.transform(y)) # 분류기를 복제해서 학습을 돌림.\n",
    "            \n",
    "            self.classifiers_.append(fitted_clf) # 학습된 분류기를 리스트에 추가\n",
    "        \n",
    "        return self # 객체 반환\n",
    "    \n",
    "    def predict(self, X):\n",
    "        '''\n",
    "        X = 샘플 데이터 행렬\n",
    "        maj_vote = 예측된 클래스 레이블\n",
    "        '''\n",
    "        if self.vote == \"probability\":\n",
    "            maj_vote = np.argmax(self.predict_proba(X), axis = 1) # 클래스 소속확률을 기반으로 클래스 레이블을 예측\n",
    "        \n",
    "        else: # classlabel 투표\n",
    "            predictions = np.array([clf.predict(X) for clf in self.classifiers_].T) # clf.predict 함수를 사용하여 결과를 모음.\n",
    "            \n",
    "            maj_vote = np.apply_along_axis(lambda x: (np.bincount(x, weights = self.weights)), axis =1, arr = predictions)\n",
    "            \n",
    "            maj_vote = self.lablenc_.inverse_transform(maj_vote)\n",
    "            \n",
    "            return maj_vote\n",
    "        \n",
    "    # ROC AUC를 계산하기 위해 평균 확률을 반환하는 predict_proba 함수 사용\n",
    "    def predict_proba(self, X):\n",
    "        '''\n",
    "        X = 샘플 데이터 행렬\n",
    "        '''\n",
    "        \n",
    "        probas = np.asarray([clf.predict_proba(X) for clf in self.classifiers_])\n",
    "        \n",
    "        avg_proba = np.average(probas, axis = 0, weights = self.weights)\n",
    "        \n",
    "        return avg_proba\n",
    "        \n",
    "    def get_params(self, deep=True):\n",
    "        if not deep:\n",
    "            return super(MajorityVoteClassifier, self).get_params(deep=False)  # GridSearch를 위해 분류기의 매개변수 이름을 반환\n",
    "        \n",
    "        else:\n",
    "            out = self.named_classifiers.copy()\n",
    "            \n",
    "            for name, step in six.iteritems(self.named_classifiers):\n",
    "                \n",
    "                for key, value in six.iteritems(step.get_params(deep=True)):\n",
    "                    our[\"%s__%s\" % (name, key)] = value\n",
    "            \n",
    "            return out\n",
    "        "
   ]
  }
 ],
 "metadata": {
  "kernelspec": {
   "display_name": "Python 3",
   "language": "python",
   "name": "python3"
  },
  "language_info": {
   "codemirror_mode": {
    "name": "ipython",
    "version": 3
   },
   "file_extension": ".py",
   "mimetype": "text/x-python",
   "name": "python",
   "nbconvert_exporter": "python",
   "pygments_lexer": "ipython3",
   "version": "3.7.4"
  }
 },
 "nbformat": 4,
 "nbformat_minor": 2
}
