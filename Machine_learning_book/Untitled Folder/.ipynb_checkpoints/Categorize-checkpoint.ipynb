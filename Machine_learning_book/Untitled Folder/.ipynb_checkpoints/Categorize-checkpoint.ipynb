{
 "cells": [
  {
   "cell_type": "markdown",
   "metadata": {},
   "source": [
    "## TF-IDF module\n",
    "### => 문서 내부의 특정 단어가 어느정도 빈도로 있는지 파악하기 위함"
   ]
  },
  {
   "cell_type": "code",
   "execution_count": 9,
   "metadata": {},
   "outputs": [],
   "source": [
    "# Library\n",
    "from konlpy.tag import Okt\n",
    "import pickle\n",
    "import numpy as np"
   ]
  },
  {
   "cell_type": "code",
   "execution_count": 10,
   "metadata": {},
   "outputs": [],
   "source": [
    "okt = Okt()\n",
    "\n",
    "word_dic = {\"_id\" : 0} # 단어가 들어가는 사전\n",
    "dt_dic = {} # 문장 전체에서의 단어 출현 횟수\n",
    "files = [] # 문서들을 저장할 리스트"
   ]
  },
  {
   "cell_type": "code",
   "execution_count": 36,
   "metadata": {},
   "outputs": [],
   "source": [
    "def tokenize(text):\n",
    "    result = []\n",
    "    \n",
    "    word_s = okt.pos(text, norm = True, stem = True)\n",
    "    \n",
    "    for n, h in word_s:\n",
    "        \n",
    "        if not (h in [\"Noun\", \"Verb\", \"Adjective\"]):\n",
    "            continue\n",
    "        if h == \"Punctuation\" and h2 == \"Number\":\n",
    "            continue\n",
    "            \n",
    "        result.append(n)\n",
    "    \n",
    "    return result"
   ]
  },
  {
   "cell_type": "code",
   "execution_count": 37,
   "metadata": {},
   "outputs": [],
   "source": [
    "def words_to_ids(words, auto_add = True):\n",
    "    result = []\n",
    "    \n",
    "    for w in words:\n",
    "        \n",
    "        if w in word_dic:\n",
    "            result.append(word_dic[w])\n",
    "            continue\n",
    "        \n",
    "        elif auto_add:\n",
    "            id = word_dic[w] = word_dic[\"_id\"]\n",
    "            word_dic[\"_id\"] +=1\n",
    "            result.append(id)\n",
    "            \n",
    "    return result"
   ]
  },
  {
   "cell_type": "code",
   "execution_count": 38,
   "metadata": {},
   "outputs": [],
   "source": [
    "def add_text(text):\n",
    "    ids = words_to_ids(tokenize(text))\n",
    "    files.append(ids)"
   ]
  },
  {
   "cell_type": "code",
   "execution_count": 39,
   "metadata": {},
   "outputs": [],
   "source": [
    "def add_file(path):\n",
    "    with open(path, \"r\", encoding = \"utf-8\") as f:\n",
    "        s = f.read()\n",
    "        \n",
    "        add_text(s)"
   ]
  },
  {
   "cell_type": "code",
   "execution_count": 40,
   "metadata": {},
   "outputs": [],
   "source": [
    "def calc_files():\n",
    "    \n",
    "    global dt_dic\n",
    "    result = []\n",
    "    doc_count = len(files)\n",
    "    dt_dic = {}\n",
    "    \n",
    "    # 단어 출현 횟수 카운트\n",
    "    \n",
    "    for words in files:\n",
    "        \n",
    "        used_word = {}\n",
    "        \n",
    "        data = np.zeros(word_dic[\"_id\"])\n",
    "        \n",
    "        for id in words:\n",
    "            data[id] += 1\n",
    "            \n",
    "        # 단어 t가 사용되고 있을 경우 dt_dic의 수를 1 더하기\n",
    "        for id in used_word:\n",
    "                \n",
    "            if not(id in dt_dic):\n",
    "                dt_dic[id] = 0\n",
    "            dt_dic[id] +=1\n",
    "                \n",
    "        # 정규화하기\n",
    "        data = data / len(words)\n",
    "        result.append(data)    \n",
    "    \n",
    "    # tf-idf 계산\n",
    "    for i, doc in enumerate(result):\n",
    "        \n",
    "        for id, v in enumerate(doc):\n",
    "            \n",
    "            idf = np.log(doc_count / dt_dic[id]) + 1\n",
    "            \n",
    "            doc[id] = min([doc[id] * idf, 1.0])\n",
    "            \n",
    "        result[i] = doc\n",
    "        \n",
    "    return result"
   ]
  },
  {
   "cell_type": "code",
   "execution_count": 41,
   "metadata": {},
   "outputs": [],
   "source": [
    "def save_dic(fname):\n",
    "    \n",
    "    pickle.dump([word_dic, dt_dic, files], open(fname, \"wb\"))"
   ]
  },
  {
   "cell_type": "code",
   "execution_count": 42,
   "metadata": {},
   "outputs": [],
   "source": [
    "def load_dic(fname):\n",
    "    \n",
    "    global word_dic, dt_dic, files\n",
    "    \n",
    "    n = pickle.load(open(fname, \"rb\"))\n",
    "    \n",
    "    word_dic, dt_dic, files = n"
   ]
  },
  {
   "cell_type": "code",
   "execution_count": 43,
   "metadata": {},
   "outputs": [],
   "source": [
    "def calc_text(text):\n",
    "    \n",
    "    data = np.zeros(word_dic[\"_id\"])\n",
    "    words = words_to_ids(tokenize(text), False)\n",
    "    \n",
    "    for w in words:\n",
    "        \n",
    "        data[w] += 1\n",
    "        \n",
    "    data = data / len(words)\n",
    "    \n",
    "    for id, v in enumerate(data):\n",
    "        \n",
    "        idf = np.log(len(files) / dt_dic[id] + 1)\n",
    "        \n",
    "        data[id] = min([data[id] * idf, 1.0])\n",
    "    \n",
    "    return data"
   ]
  },
  {
   "cell_type": "code",
   "execution_count": 44,
   "metadata": {},
   "outputs": [
    {
     "ename": "KeyError",
     "evalue": "0",
     "output_type": "error",
     "traceback": [
      "\u001b[0;31m---------------------------------------------------------------------------\u001b[0m",
      "\u001b[0;31mKeyError\u001b[0m                                  Traceback (most recent call last)",
      "\u001b[0;32m<ipython-input-44-ce03682413c6>\u001b[0m in \u001b[0;36m<module>\u001b[0;34m\u001b[0m\n\u001b[1;32m      5\u001b[0m     \u001b[0madd_text\u001b[0m\u001b[0;34m(\u001b[0m\u001b[0;34m\"오늘은 더웠지만 오후부터 비가 내렸다.\"\u001b[0m\u001b[0;34m)\u001b[0m\u001b[0;34m\u001b[0m\u001b[0;34m\u001b[0m\u001b[0m\n\u001b[1;32m      6\u001b[0m     \u001b[0madd_text\u001b[0m\u001b[0;34m(\u001b[0m\u001b[0;34m\"비가 내리는 일요일이다.\"\u001b[0m\u001b[0;34m)\u001b[0m\u001b[0;34m\u001b[0m\u001b[0;34m\u001b[0m\u001b[0m\n\u001b[0;32m----> 7\u001b[0;31m     \u001b[0mprint\u001b[0m\u001b[0;34m(\u001b[0m\u001b[0mcalc_files\u001b[0m\u001b[0;34m(\u001b[0m\u001b[0;34m)\u001b[0m\u001b[0;34m)\u001b[0m\u001b[0;34m\u001b[0m\u001b[0;34m\u001b[0m\u001b[0m\n\u001b[0m\u001b[1;32m      8\u001b[0m     \u001b[0mprint\u001b[0m\u001b[0;34m(\u001b[0m\u001b[0mword_dic\u001b[0m\u001b[0;34m)\u001b[0m\u001b[0;34m\u001b[0m\u001b[0;34m\u001b[0m\u001b[0m\n",
      "\u001b[0;32m<ipython-input-40-b01bb6f280ab>\u001b[0m in \u001b[0;36mcalc_files\u001b[0;34m()\u001b[0m\n\u001b[1;32m     33\u001b[0m         \u001b[0;32mfor\u001b[0m \u001b[0mid\u001b[0m\u001b[0;34m,\u001b[0m \u001b[0mv\u001b[0m \u001b[0;32min\u001b[0m \u001b[0menumerate\u001b[0m\u001b[0;34m(\u001b[0m\u001b[0mdoc\u001b[0m\u001b[0;34m)\u001b[0m\u001b[0;34m:\u001b[0m\u001b[0;34m\u001b[0m\u001b[0;34m\u001b[0m\u001b[0m\n\u001b[1;32m     34\u001b[0m \u001b[0;34m\u001b[0m\u001b[0m\n\u001b[0;32m---> 35\u001b[0;31m             \u001b[0midf\u001b[0m \u001b[0;34m=\u001b[0m \u001b[0mnp\u001b[0m\u001b[0;34m.\u001b[0m\u001b[0mlog\u001b[0m\u001b[0;34m(\u001b[0m\u001b[0mdoc_count\u001b[0m \u001b[0;34m/\u001b[0m \u001b[0mdt_dic\u001b[0m\u001b[0;34m[\u001b[0m\u001b[0mid\u001b[0m\u001b[0;34m]\u001b[0m\u001b[0;34m)\u001b[0m \u001b[0;34m+\u001b[0m \u001b[0;36m1\u001b[0m\u001b[0;34m\u001b[0m\u001b[0;34m\u001b[0m\u001b[0m\n\u001b[0m\u001b[1;32m     36\u001b[0m \u001b[0;34m\u001b[0m\u001b[0m\n\u001b[1;32m     37\u001b[0m             \u001b[0mdoc\u001b[0m\u001b[0;34m[\u001b[0m\u001b[0mid\u001b[0m\u001b[0;34m]\u001b[0m \u001b[0;34m=\u001b[0m \u001b[0mmin\u001b[0m\u001b[0;34m(\u001b[0m\u001b[0;34m[\u001b[0m\u001b[0mdoc\u001b[0m\u001b[0;34m[\u001b[0m\u001b[0mid\u001b[0m\u001b[0;34m]\u001b[0m \u001b[0;34m*\u001b[0m \u001b[0midf\u001b[0m\u001b[0;34m,\u001b[0m \u001b[0;36m1.0\u001b[0m\u001b[0;34m]\u001b[0m\u001b[0;34m)\u001b[0m\u001b[0;34m\u001b[0m\u001b[0;34m\u001b[0m\u001b[0m\n",
      "\u001b[0;31mKeyError\u001b[0m: 0"
     ]
    }
   ],
   "source": [
    "if __name__ == \"__main__\":\n",
    "    \n",
    "    add_text(\"비\")    \n",
    "    add_text(\"오늘은 비가 내렸어요.\")\n",
    "    add_text(\"오늘은 더웠지만 오후부터 비가 내렸다.\")\n",
    "    add_text(\"비가 내리는 일요일이다.\")\n",
    "    print(calc_files())\n",
    "    print(word_dic)"
   ]
  },
  {
   "cell_type": "code",
   "execution_count": null,
   "metadata": {},
   "outputs": [],
   "source": []
  },
  {
   "cell_type": "code",
   "execution_count": null,
   "metadata": {},
   "outputs": [],
   "source": []
  }
 ],
 "metadata": {
  "kernelspec": {
   "display_name": "Python 3",
   "language": "python",
   "name": "python3"
  },
  "language_info": {
   "codemirror_mode": {
    "name": "ipython",
    "version": 3
   },
   "file_extension": ".py",
   "mimetype": "text/x-python",
   "name": "python",
   "nbconvert_exporter": "python",
   "pygments_lexer": "ipython3",
   "version": "3.7.6"
  }
 },
 "nbformat": 4,
 "nbformat_minor": 4
}
