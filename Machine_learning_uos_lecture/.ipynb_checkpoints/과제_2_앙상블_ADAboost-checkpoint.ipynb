{
 "cells": [
  {
   "cell_type": "markdown",
   "metadata": {},
   "source": [
    "## 패키지 설치"
   ]
  },
  {
   "cell_type": "code",
   "execution_count": 50,
   "metadata": {},
   "outputs": [],
   "source": [
    "import numpy as np\n",
    "import math"
   ]
  },
  {
   "cell_type": "markdown",
   "metadata": {},
   "source": [
    "## 함수정리"
   ]
  },
  {
   "cell_type": "code",
   "execution_count": 78,
   "metadata": {},
   "outputs": [],
   "source": [
    "# 1단계 값을 예시로 함수작성\n",
    "\n",
    "y = [1, 1, 1, -1 , 1, -1, -1, 1, -1, -1] # +와 -를 구분하는 레이블\n",
    "d1 = [0.1, 0.1, 0.1, 0.1, 0.1,0.1,0.1,0.1,0.1,0.1,] # 기존 가중치\n",
    "h1 = [-1, -1, -1, -1, 1, -1,-1,  1, -1, -1] # 인디케이터 함수 돌린 값들\n",
    "\n",
    "\n",
    "# 오분류난 인덱스 함수\n",
    "\n",
    "def getMisClassified(y, h):\n",
    "    result = []\n",
    "    for i in range(0, len(y)):\n",
    "        if y[i] != h[i]:\n",
    "            result.append(i)\n",
    "        else:\n",
    "            continue\n",
    "    return result\n",
    "\n",
    "\n",
    "# 에러 함수\n",
    "\n",
    "def getErr(y, d, h):\n",
    "    result = 0\n",
    "    for i in range(0, len(y)):\n",
    "        if y[i] != h[i]:\n",
    "            result += d[i] * 1\n",
    "    return result\n",
    "\n",
    "\n",
    "# 알파값 함수\n",
    "\n",
    "def getAlpha(err):\n",
    "    return 1/2 * np.log((1- err) / err)\n",
    "\n",
    "\n",
    "# 익스포넨셜 반환값 함수\n",
    "\n",
    "def getExp(y, d, h):\n",
    "    result = []\n",
    "    \n",
    "    for i in range(0, len(y)):\n",
    "        y_i = y[i]\n",
    "        h_i = h[i]\n",
    "        alpha = getAlpha(getErr(y, d, h))\n",
    "        \n",
    "        value = np.exp(-alpha * y_i * h_i)\n",
    "        \n",
    "        result.append(value)\n",
    "    return result\n",
    "\n",
    "\n",
    "# 가중치와 지수함수 반환값의 곱 함수\n",
    "\n",
    "def get_d_x_exp(d, exp):\n",
    "    return [i*j for i, j in zip(d, exp)]\n",
    "        \n",
    "    \n",
    "# z값 함수\n",
    "\n",
    "def getZ(d_x_exp):\n",
    "    return sum(d_x_exp)\n",
    "\n",
    "\n",
    "# 가중치 업데이트 함수\n",
    "\n",
    "def getUpdatedWeight(d_x_exp, z):\n",
    "    return [i / z for i in d_x_exp]\n"
   ]
  },
  {
   "cell_type": "markdown",
   "metadata": {},
   "source": [
    "## 1단계 수치계산"
   ]
  },
  {
   "cell_type": "code",
   "execution_count": 75,
   "metadata": {},
   "outputs": [
    {
     "name": "stdout",
     "output_type": "stream",
     "text": [
      "가중치 \n",
      "=> [0.1, 0.1, 0.1, 0.1, 0.1, 0.1, 0.1, 0.1, 0.1, 0.1]\n",
      "\n",
      "오분류 인덱스 \n",
      "=> [0, 1, 2]\n",
      "\n",
      "e^-a1*yi*h1(xi) \n",
      "=> [1.53, 1.53, 1.53, 0.65, 0.65, 0.65, 0.65, 0.65, 0.65, 0.65]\n",
      "\n",
      "d * e^-a1*yi*h1(xi) \n",
      "=> [0.15, 0.15, 0.15, 0.07, 0.07, 0.07, 0.07, 0.07, 0.07, 0.07]\n",
      "\n",
      "err \n",
      "=> 0.3\n",
      "\n",
      "alpha \n",
      "=> 0.42\n",
      "\n",
      "z \n",
      "=> 0.92\n",
      "\n"
     ]
    }
   ],
   "source": [
    "# 1단계\n",
    "y = [1, 1, 1, -1 , 1, -1, -1, 1, -1, -1] # +와 -를 구분하는 레이블\n",
    "d1 = [0.1, 0.1, 0.1, 0.1, 0.1,0.1,0.1,0.1,0.1,0.1]\n",
    "h1 = [-1, -1, -1, -1, 1, -1,-1,  1, -1, -1] # 인디케이터 함수 돌린 값들\n",
    "\n",
    "err1 = getErr(y, d1, h1)\n",
    "alpha1 = getAlpha(err1) \n",
    "exp1 = getExp(y, d1, h1) \n",
    "d_x_exp1 = get_d_x_exp(d1, exp1) \n",
    "z1 = getZ(d_x_exp1) \n",
    "\n",
    "print(\"가중치 \\n=> {0}\\n\".format([round(i, 2) for i in d1]))\n",
    "print(\"오분류 인덱스 \\n=> {0}\\n\".format(getMisClassified(y, h1)))\n",
    "print(\"e^-a1*yi*h1(xi) \\n=> {0}\\n\".format([round(i, 2) for i in exp1]))\n",
    "print(\"d * e^-a1*yi*h1(xi) \\n=> {0}\\n\".format([round(i, 2) for i in d_x_exp1]))\n",
    "print(\"err \\n=> {:.2}\\n\".format(err1))\n",
    "print(\"alpha \\n=> {:.2}\\n\".format(alpha1))\n",
    "print(\"z \\n=> {:.2}\\n\".format(z1))"
   ]
  },
  {
   "cell_type": "markdown",
   "metadata": {},
   "source": [
    "## 2단계 수치계산"
   ]
  },
  {
   "cell_type": "code",
   "execution_count": 76,
   "metadata": {},
   "outputs": [
    {
     "name": "stdout",
     "output_type": "stream",
     "text": [
      "가중치 \n",
      "=> [0.17, 0.17, 0.17, 0.07, 0.07, 0.07, 0.07, 0.07, 0.07, 0.07]\n",
      "\n",
      "오분류 인덱스 \n",
      "=> [5, 6, 8]\n",
      "\n",
      "e^-a2*yi*h2(xi) \n",
      "=> [0.52, 0.52, 0.52, 0.52, 0.52, 1.91, 1.91, 0.52, 1.91, 0.52]\n",
      "\n",
      "d * e^-a2*yi*h2(xi) \n",
      "=> [0.09, 0.09, 0.09, 0.04, 0.04, 0.14, 0.14, 0.04, 0.14, 0.04]\n",
      "\n",
      "err \n",
      "=> 0.21\n",
      "\n",
      "alpha \n",
      "=> 0.65\n",
      "\n",
      "z \n",
      "=> 0.82\n",
      "\n"
     ]
    }
   ],
   "source": [
    "# 2단계\n",
    "d2 = getUpdatedWeight(d_x_exp1, z1)\n",
    "h2 = [1, 1, 1, -1, 1, 1, 1, 1, 1, -1] # 인디케이터 함수를 그림으로 통해 유추하여 반환한 값들\n",
    "\n",
    "err2 = getErr(y, d2, h2)\n",
    "alpha2 = getAlpha(err2)\n",
    "exp2 = getExp(y, d2, h2)\n",
    "d_x_exp2= get_d_x_exp(d2, exp2)\n",
    "z2 = getZ(d_x_exp2)\n",
    "\n",
    "print(\"가중치 \\n=> {0}\\n\".format([round(i, 2) for i in d2]))\n",
    "print(\"오분류 인덱스 \\n=> {0}\\n\".format(getMisClassified(y, h2)))\n",
    "print(\"e^-a2*yi*h2(xi) \\n=> {0}\\n\".format([round(i, 2) for i in exp2]))\n",
    "print(\"d * e^-a2*yi*h2(xi) \\n=> {0}\\n\".format([round(i, 2) for i in d_x_exp2]))\n",
    "print(\"err \\n=> {:.2}\\n\".format(err2))\n",
    "print(\"alpha \\n=> {:.2}\\n\".format(alpha2))\n",
    "print(\"z \\n=> {:.2}\\n\".format(z2))"
   ]
  },
  {
   "cell_type": "markdown",
   "metadata": {},
   "source": [
    "## 3단계 수치계산"
   ]
  },
  {
   "cell_type": "code",
   "execution_count": 77,
   "metadata": {},
   "outputs": [
    {
     "name": "stdout",
     "output_type": "stream",
     "text": [
      "가중치 \n",
      "=> [0.11, 0.11, 0.11, 0.05, 0.05, 0.17, 0.17, 0.05, 0.17, 0.05]\n",
      "\n",
      "오분류 인덱스 \n",
      "=> [3, 4, 7]\n",
      "\n",
      "e^-a3*yi*h3(xi) \n",
      "=> [0.4, 0.4, 0.4, 2.52, 2.52, 0.4, 0.4, 2.52, 0.4, 0.4]\n",
      "\n",
      "d * e^-a3*yi*h3(xi) \n",
      "=> [0.04, 0.04, 0.04, 0.11, 0.11, 0.07, 0.07, 0.11, 0.07, 0.02]\n",
      "\n",
      "err \n",
      "=> 0.14\n",
      "\n",
      "alpha \n",
      "=> 0.92\n",
      "\n",
      "z \n",
      "=> 0.69\n",
      "\n"
     ]
    }
   ],
   "source": [
    "# 3단계\n",
    "\n",
    "d3 = getUpdatedWeight(d_x_exp2, z2)\n",
    "h3 = [1, 1, 1, 1, -1, -1, -1, -1, -1, -1] # 인디케이터 함수를 그림으로 통해 유추하여 반환한 값들\n",
    "\n",
    "err3 = getErr(y, d3, h3)\n",
    "alpha3 = getAlpha(err3)\n",
    "exp3 = getExp(y, d3, h3)\n",
    "d_x_exp3= get_d_x_exp(d3, exp3)\n",
    "z3 = getZ(d_x_exp3)\n",
    "\n",
    "print(\"가중치 \\n=> {0}\\n\".format([round(i, 2) for i in d3]))\n",
    "print(\"오분류 인덱스 \\n=> {0}\\n\".format(getMisClassified(y, h3)))\n",
    "print(\"e^-a3*yi*h3(xi) \\n=> {0}\\n\".format([round(i, 2) for i in exp3]))\n",
    "print(\"d * e^-a3*yi*h3(xi) \\n=> {0}\\n\".format([round(i, 2) for i in d_x_exp3]))\n",
    "print(\"err \\n=> {:.2}\\n\".format(err3))\n",
    "print(\"alpha \\n=> {:.2}\\n\".format(alpha3))\n",
    "print(\"z \\n=> {:.2}\\n\".format(z3))"
   ]
  },
  {
   "cell_type": "markdown",
   "metadata": {},
   "source": [
    "## 우측 상단 영역의 예측"
   ]
  },
  {
   "cell_type": "code",
   "execution_count": 65,
   "metadata": {},
   "outputs": [
    {
     "name": "stdout",
     "output_type": "stream",
     "text": [
      "우측 상단 영역을 예측해봅시다.\n",
      "=> 음수 영역에 해당합니다.\n"
     ]
    }
   ],
   "source": [
    "sign = lambda x: math.copysign(1, x) # 람다 함수는 다른 언어의 map과 거의 비슷(math 모듈의 copysign 함수로 sign함수를 구현하기 위함.)\n",
    "\n",
    "# 우측 상단 영역은 1단계 범위에 안들어가서 -1, 2단계 범위에도 안들어가서 -1, 3단계 범위엔 들어가서 1입니다.\n",
    "value = (-1) * alpha1 + (-1) * alpha2 + 1 * alpha3 # 위에서 구한 알파값으로 계산을 합니다.\n",
    "result = sign(value) # sign 함수에 넣어 양수 영역인지 음수 영역인지 반환합니다.\n",
    "\n",
    "print(\"우측 상단 영역을 예측해봅시다.\")\n",
    "      \n",
    "if result >= 0:\n",
    "    print(\"=> 양수 영역에 해당합니다.\")\n",
    "else:\n",
    "    print(\"=> 음수 영역에 해당합니다.\")"
   ]
  },
  {
   "cell_type": "markdown",
   "metadata": {},
   "source": [
    "## 해석"
   ]
  },
  {
   "cell_type": "markdown",
   "metadata": {},
   "source": [
    "#### 에이다 부스트(adaboost)는 학습을 할 때 전체를 대상으로 훈련을 진행하고 오분류된 데이터에는 높은 가중치를, 제대로 분류된\n",
    "#### 데이터들에 대해서는 낮은 가중치를 부여합니다. 그래서 높은 가중치에 대해서 집중적으로 학습을 하는 단계를 거칩니다.\n",
    "#### 그리고 이렇게 단계를 거치면서 각 단계별로 서로 다른 가중치를 부여하게 되었는데, 다수결 투표 방식으로 학습기를 합칩니다.\n",
    "#### 이렇게 합친 학습기를 바탕으로 위에서 언급했던 우측 상단 영역의 예측을 할 수 있습니다."
   ]
  }
 ],
 "metadata": {
  "kernelspec": {
   "display_name": "Python 3",
   "language": "python",
   "name": "python3"
  },
  "language_info": {
   "codemirror_mode": {
    "name": "ipython",
    "version": 3
   },
   "file_extension": ".py",
   "mimetype": "text/x-python",
   "name": "python",
   "nbconvert_exporter": "python",
   "pygments_lexer": "ipython3",
   "version": "3.7.4"
  }
 },
 "nbformat": 4,
 "nbformat_minor": 2
}
