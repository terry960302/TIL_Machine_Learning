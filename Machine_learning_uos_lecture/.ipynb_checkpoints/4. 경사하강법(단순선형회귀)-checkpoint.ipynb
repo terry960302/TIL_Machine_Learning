{
 "cells": [
  {
   "cell_type": "code",
   "execution_count": 1,
   "metadata": {},
   "outputs": [],
   "source": [
    "# https://github.com/rickiepark/do-it-dl/blob/master/Ch03.ipynb 참고\n",
    "\n",
    "# 가중치 갱신하는 클래스\n",
    "class Neuron:\n",
    "    \n",
    "    def __init__(self):\n",
    "        self.b = 1.0\n",
    "        self.w = 1.0\n",
    "        \n",
    "    # 노드에 데이터 feed\n",
    "    def forpass(self, x):\n",
    "        y_hat = self.b + x * self.w\n",
    "        return y_hat\n",
    "    \n",
    "    # 역전파 (가중치가 갱신되는 부분)\n",
    "    def backprop(self, x, err):\n",
    "        w_grad = x * err # 경사하강법이 적용된 가중치\n",
    "        b_grad = 1 * err # 경사하강법이 적용된 절편\n",
    "        return w_grad, b_grad\n",
    "    \n",
    "    # \n",
    "    def fit(self, x, y, epochs=100):\n",
    "        \n",
    "        for i in range(epochs):\n",
    "            \n",
    "            for x_i, y_i in zip(x, y):\n",
    "                y_hat = self.forpass(x_i)\n",
    "                err = -(y_i - y_hat) # 편미분해서 잔차(오차의 추정값)을 파악 **주의 : 여기서 잔차앞에 마이너스\n",
    "                w_grad, b_grad = self.backprop(x_i, err)\n",
    "                self.w -= w_grad # 기존 가중치에서 경사하강법 적용한 걸 빼줌.\n",
    "                self.b -= b_grad"
   ]
  },
  {
   "cell_type": "code",
   "execution_count": 2,
   "metadata": {},
   "outputs": [
    {
     "name": "stdout",
     "output_type": "stream",
     "text": [
      "(442, 10) (442,)\n"
     ]
    }
   ],
   "source": [
    "# 우리가 가중치 갱신을 적용해볼 데이터\n",
    "from sklearn.datasets import load_diabetes\n",
    "\n",
    "# 당뇨병 데이터\n",
    "d = load_diabetes()\n",
    "\n",
    "print(d.data.shape, d.target.shape)\n",
    "\n",
    "x = d.data[:,2] # 두번째 독립변수만 가져옴\n",
    "y = d.target"
   ]
  },
  {
   "cell_type": "code",
   "execution_count": null,
   "metadata": {},
   "outputs": [],
   "source": [
    "# 가중치 갱신 시작\n",
    "import matplotlib.pyplot as plt\n",
    "\n",
    "neuron = Neuron()\n",
    "neuron.fit(x, y)\n",
    "\n",
    "plt.scatter(x, y)\n",
    "pt1 = (-0.1, -0.1*neuron.w + neuron.b)\n",
    "pt2 = (0.15, 0.15*neuron.w + neuron.b)\n",
    "\n",
    "plt.plot([pt1[0], pt2[0]], [pt1[1], pt2[1]])\n",
    "plt.xlabel(\"x\")\n",
    "plt.ylabel(\"y\")\n",
    "plt.show()"
   ]
  }
 ],
 "metadata": {
  "kernelspec": {
   "display_name": "Python 3",
   "language": "python",
   "name": "python3"
  },
  "language_info": {
   "codemirror_mode": {
    "name": "ipython",
    "version": 3
   },
   "file_extension": ".py",
   "mimetype": "text/x-python",
   "name": "python",
   "nbconvert_exporter": "python",
   "pygments_lexer": "ipython3",
   "version": "3.7.4"
  }
 },
 "nbformat": 4,
 "nbformat_minor": 2
}
