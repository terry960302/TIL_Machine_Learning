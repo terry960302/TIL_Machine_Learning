{
 "cells": [
  {
   "cell_type": "markdown",
   "metadata": {},
   "source": [
    "## 패키지 설치"
   ]
  },
  {
   "cell_type": "code",
   "execution_count": 55,
   "metadata": {},
   "outputs": [],
   "source": [
    "from scipy.special import comb # combination 함수로 n개 중에 k개를 뽑는 가짓수를 계산할 때 사용\n",
    "import math\n",
    "import numpy as np\n",
    "import matplotlib.pyplot as plt\n",
    "from sklearn.base import BaseEstimator\n",
    "from sklearn.base import ClassifierMixin\n",
    "from sklearn.preprocessing import LabelEncoder\n",
    "from sklearn.externals import six\n",
    "from sklearn.base import clone\n",
    "from sklearn.pipeline import _name_estimators\n",
    "import operator\n",
    "from sklearn import datasets\n",
    "from sklearn.model_selection import train_test_split\n",
    "from sklearn.preprocessing import StandardScaler\n",
    "from sklearn.model_selection import cross_val_score\n",
    "from sklearn.linear_model import LogisticRegression\n",
    "from sklearn.tree import DecisionTreeClassifier\n",
    "from sklearn.neighbors import KNeighborsClassifier\n",
    "from sklearn.pipeline import Pipeline\n",
    "from sklearn.metrics import roc_curve\n",
    "from sklearn.metrics import auc\n",
    "from itertools import product"
   ]
  },
  {
   "cell_type": "markdown",
   "metadata": {},
   "source": [
    "## 앙상블 학습"
   ]
  },
  {
   "cell_type": "code",
   "execution_count": 3,
   "metadata": {},
   "outputs": [
    {
     "data": {
      "text/plain": [
       "0.03432750701904297"
      ]
     },
     "execution_count": 3,
     "metadata": {},
     "output_type": "execute_result"
    }
   ],
   "source": [
    "# 앙상블 에러율 함수(이항 분포의 확률 질량 함수로 표현)\n",
    "\n",
    "'''\n",
    "n_classifier = 전체 개수\n",
    "error = 분류기가 실패할 확률\n",
    "'''\n",
    "\n",
    "def ensemble_error(n_classifier, error):\n",
    "    k_start = int(math.ceil(n_classifier / 2.))  # 실패할 확률이 25% 일 때 11개의 분류기로 구성된 앙상블이 실패하려면 여섯개 이상이 실패해야함. 고로 n_classifier의 값에 따라 실패하려면 몇 개의 분류기가 실패해야하는지에 대한 값. \n",
    "\n",
    "    probs = [] # 분류기 에러 확률 리스트\n",
    "    for k in range(k_start, n_classifier + 1): # 분류기의 개수에 따라 에러 확률을 구해서 리스트에 넣어줌.\n",
    "            probs.append(comb(n_classifier, k) * error**k * (1-error)**(n_classifier - k)) # 254pg에 나와있는 에러율 구하는 수학공식을 코드로 변환\n",
    "    return sum(probs) # 에러율의 모든 합\n",
    "\n",
    "ensemble_error(n_classifier= 11, error= 0.25)"
   ]
  },
  {
   "cell_type": "markdown",
   "metadata": {},
   "source": [
    "### 해석\n",
    "개별 분류기의 에러율이 25%인 분류기를 앙상블 기법을 통해서 앙상블의 에러율을 구하는 함수를 만들었습니다. 앙상블 에러율을 구하는 함수는 이항 분포의 확률 질량 함수로 표현하여 254pg의 수학 공식을 코드로 변환하여 만들었습니다. \n",
    "결과값인 0.034(3.4%) 값을 보면 개별 분류기의 에러율이었던 25%보다 훨씬 개선이 되었음을 확인할 수 있습니다."
   ]
  },
  {
   "cell_type": "code",
   "execution_count": 4,
   "metadata": {},
   "outputs": [
    {
     "data": {
      "image/png": "[encoded data removed]",
      "text/plain": [
       "<Figure size 432x288 with 1 Axes>"
      ]
     },
     "metadata": {
      "needs_background": "light"
     },
     "output_type": "display_data"
    }
   ],
   "source": [
    "# 앙상블과 개별 분류기 에러 사이의 관계 그래프\n",
    "\n",
    "error_range = np.arange(0.0, 1.01, 0.01) # 에러율의 범위(0.0부터 1.0까지 0.01단위 간격의 리스트)\n",
    "ens_errors = [ensemble_error(n_classifier=11, error = error) for error in error_range] # 앙상블 에러율이 0.0 ~ 1.0에 걸쳐있을 때 에러율 계산\n",
    "\n",
    "plt.plot(error_range, ens_errors, label=\"Ensemble error\", linewidth=2) # 앙상블 에러\n",
    "plt.plot(error_range, error_range, linestyle = \"--\", label=\"Base error\", linewidth = 2) # 개별 분류기 에러\n",
    "\n",
    "# 나머지 그래프 설정\n",
    "plt.xlabel(\"Base error\")\n",
    "plt.ylabel(\"Base/Ensemble error\")\n",
    "plt.legend(loc=\"upper left\")\n",
    "plt.grid(alpha=0.5)\n",
    "plt.show()"
   ]
  },
  {
   "cell_type": "markdown",
   "metadata": {},
   "source": [
    "### 해석\n",
    "위에서 언급했던 앙상블 에러율 구하는 함수를 0.0부터 1.0까지의 범위속에서 반복문을 돌려 앙상블 에러율을 구했습니다. 이렇게 연속적인 앙상블 에러율을 통해 그래프를 그리고 기존의 개별 분류기의 에러율을 시각적으로 비교해보았습니다. \n",
    "결과 그래프에서 볼 수 있듯이 앙상블의 에러율은 개별 분류기의 에러율보다 항상 좋음을 볼 수 있습니다. 다만 분류기가 무작위 추측(에러율 0.5미만)보다 성능이 좋아야한다는 전제가 필요합니다."
   ]
  },
  {
   "cell_type": "markdown",
   "metadata": {},
   "source": [
    "## 다수결 투표를 사용한 분류 앙상블"
   ]
  },
  {
   "cell_type": "code",
   "execution_count": 5,
   "metadata": {},
   "outputs": [
    {
     "data": {
      "text/plain": [
       "0"
      ]
     },
     "execution_count": 5,
     "metadata": {},
     "output_type": "execute_result"
    }
   ],
   "source": [
    "# 최빈값 파악하는 argmax 함수(배열에서 가장 큰 값을 가진 위치의 인덱스 값을 반환)\n",
    "np.argmax(np.bincount([0, 0, 1], weights = [0.2, 0.2, 0.6])) # 0, 0, 1의 값들이 있는데 가중치를 씌움으로써 1인덱스의 값이 최빈값\n",
    "\n",
    "# argmax 와 average 함수를 사용한 다수결 투표 구현 샘플\n",
    "ex = np.array([[0.9, 0.1], \n",
    "               [0.8, 0.2],\n",
    "               [0.4, 0.6]]) # 3x2 행렬\n",
    "\n",
    "p = np.average(ex, axis=0, weights = [0.2, 0.2, 0.6]) # 행마다 가중치를 부여해서 열별로 평균을 구함\n",
    "\n",
    "np.argmax(p)"
   ]
  },
  {
   "cell_type": "markdown",
   "metadata": {},
   "source": [
    "### 해석\n",
    "0.9 * 0.2 + 0.8 * 0.2 + 0.4 * 0.6 = 0.58 \n",
    "0.1 * 0.2 + 0.2 * 0.2 + 0.6 * 0.6 = 0.42 \n",
    "가중치를 곱해서 계산하면 p는 가중 평균인 [0.58, 0.42]의 값이 나옵니다.\n",
    "이에 대해서 argmax로 최빈값을 계산하면 0.58의 가중이 있는 0 인덱스 값이 최빈값으로 반환됩니다."
   ]
  },
  {
   "cell_type": "code",
   "execution_count": 94,
   "metadata": {},
   "outputs": [],
   "source": [
    "# 다수결 투표 분류기 클래스 제작\n",
    "\n",
    "# : 여러 분류기에서 나온 결과물을 종합하여 다수결로 나온 최종 output을 결과물로 설정\n",
    "\n",
    "class MajorityVoteClassifier(BaseEstimator, ClassifierMixin):\n",
    "\n",
    "    # 생성자\n",
    "    def __init__(self, classifiers, vote = \"classlabel\", weights = None):\n",
    "        '''\n",
    "        classifiers = 앙상블에서 사용할 분류기  \n",
    "        '''\n",
    "        self.classifiers = classifiers\n",
    "        self.named_classifiers = {\n",
    "            key: value for key, value in _name_estimators(classifiers) # 분류기에 자동으로 이름을 세겨줍니다.\n",
    "        }\n",
    "        self.vote = vote\n",
    "        self.weights = weights\n",
    "        \n",
    "    # 분류기 학습    \n",
    "    def fit(self, X, y):\n",
    "        '''\n",
    "        X = 훈련 샘플 행렬\n",
    "        y = 타겟 클래스 레이블 벡터\n",
    "        '''\n",
    "        self.lablenc_ = LabelEncoder() # predict 함수에서 argmax 함수를 사용할 때, 클레스 레이블이 0부터 시작되어야해서 LabelEncoder 패키지 사용\n",
    "        self.lablenc_.fit(y)\n",
    "        self.classes_ = self.lablenc_.classes_\n",
    "        self.classifiers_ = []\n",
    "        \n",
    "        # 분류기를 반복문을 돌려 각 분류기에 대해 작업\n",
    "        for clf in self.classifiers:\n",
    "            fitted_clf = clone(clf).fit(X, self.lablenc_.transform(y)) # 분류기를 복제해서 학습을 돌림.\n",
    "            \n",
    "            self.classifiers_.append(fitted_clf) # 학습된 분류기를 리스트에 추가\n",
    "        \n",
    "        return self # 객체 반환\n",
    "    \n",
    "    # 예측\n",
    "    def predict(self, X):\n",
    "        '''\n",
    "        X = 샘플 데이터 행렬\n",
    "        maj_vote = 예측된 클래스 레이블\n",
    "        '''\n",
    "        if self.vote == \"probability\":\n",
    "            maj_vote = np.argmax(self.predict_proba(X), axis = 1) # 다수결의 결과는 클래스 소속확률을 기반으로 클래스 레이블을 예측함\n",
    "        \n",
    "        else: # classlabel 투표\n",
    "            predictions = np.array([clf.predict(X) for clf in self.classifiers_]).T # clf.predict 함수를 사용하여 각각의 분류기의 예측 결과를 모음.\n",
    "            \n",
    "            maj_vote = np.apply_along_axis(lambda x: np.argmax(np.bincount(x, weights = self.weights)), axis =1, arr = predictions) # 분류기의 예측 결과 리스트를 기반으로 람다함수를 돌려서 빈도값을 가중치를 적용해서 구함.\n",
    "            \n",
    "            maj_vote = self.lablenc_.inverse_transform(maj_vote) # inverse_transform 함수를 사용해서 분류기 예측 결과값을 숫자로 인코딩되어 있는걸 다시 문자열로 변환\n",
    "            \n",
    "            return maj_vote # 문자열 레이블의 예측 결과값을 반환\n",
    "        \n",
    "    # ROC AUC를 계산하기 위해 평균 확률을 반환하는 predict_proba 함수 사용\n",
    "    def predict_proba(self, X):\n",
    "        '''\n",
    "        X = 샘플 데이터 행렬\n",
    "        '''\n",
    "        \n",
    "        probas = np.asarray([clf.predict_proba(X) for clf in self.classifiers_]) # 분류기들에다가 확률 예측을 돌림\n",
    "        \n",
    "        avg_proba = np.average(probas, axis = 0, weights = self.weights) # 확률 예측값의 평균을 가중치를 씌워 평균을 냄\n",
    "        \n",
    "        return avg_proba\n",
    "    \n",
    "    # 파라미터 가져오기\n",
    "    def get_params(self, deep=True):\n",
    "        if not deep:\n",
    "            return super(MajorityVoteClassifier, self).get_params(deep=False)  # GridSearch를 위해 분류기의 매개변수 이름을 반환\n",
    "        \n",
    "        else:\n",
    "            out = self.named_classifiers.copy() # 명칭이 있는 분류기를 복사해서 변수 대입\n",
    "            \n",
    "            for name, step in six.iteritems(self.named_classifiers): # 분류기 반복\n",
    "                \n",
    "                for key, value in six.iteritems(step.get_params(deep=True)): # 분류기 이름을 가져와서 dic에 추가작업\n",
    "                    out[\"%s__%s\" % (name, key)] = value\n",
    "            \n",
    "            return out\n",
    "        "
   ]
  },
  {
   "cell_type": "markdown",
   "metadata": {},
   "source": [
    "## 다수결 투표 방식을 사용하여 예측 만들기"
   ]
  },
  {
   "cell_type": "code",
   "execution_count": 95,
   "metadata": {},
   "outputs": [
    {
     "name": "stdout",
     "output_type": "stream",
     "text": [
      "10-겹 교차검증:\n",
      "\n",
      "ROC AUC : 0.87 (+/- 0.17) [Logistic regression]\n",
      "ROC AUC : 0.89 (+/- 0.16) [Decision tree]\n",
      "ROC AUC : 0.88 (+/- 0.15) [KNN]\n"
     ]
    }
   ],
   "source": [
    "# 데이터 세팅\n",
    "iris = datasets.load_iris() \n",
    "\n",
    "X, y = iris.data[50:, [1, 2]], iris.target[50:] # X 는 꽂받침 너비와 꽃잎 길이 / y는 Iris-versicolor와 Iris-virginica 레이블\n",
    "le = LabelEncoder()\n",
    "y = le.fit_transform(y)\n",
    "\n",
    "X_train, X_test, y_train, y_test = train_test_split(X, y, test_size = 0.5, random_state = 1, stratify=y) # 테스트 데이터와 훈련 데이터를 50%로 나눔.\n",
    "\n",
    "\n",
    "# 이렇게 나눈 훈련 데이터를 갖고 앙상블로 분류기를 묶기 전에 성능 평가를 위해 서로 다른 3개의 분류기를 훈련합니다.\n",
    "\n",
    "\n",
    "# 로지스틱 회귀 분류기\n",
    "clf1 = LogisticRegression(solver=\"liblinear\", penalty=\"l2\", C=0.001, random_state = 1) # 역규제 파라미터를 0.001 수준으로 하는 로지스틱 회귀 분류기\n",
    "\n",
    "# 결정 트리 분류기 \n",
    "clf2 = DecisionTreeClassifier(max_depth = 1, criterion=\"entropy\", random_state=0) # 트리의 깊이가 1층이고 엔트로피를 기준으로 노드를 나누는 결정트리 분류기\n",
    "\n",
    "# k-최근접 이웃 분류기(KNN)\n",
    "clf3 = KNeighborsClassifier(n_neighbors=1, p=2, metric=\"minkowski\") # p=2이니 유클리디언 거리를 사용하는 KNN 기법을 사용해서 근접하는 이웃의 수는 1개인 분류기 제작\n",
    "\n",
    "pipe1 = Pipeline([[\"sc\", StandardScaler()], [\"clf\", clf1]]) # 로지스틱 회귀 분류기를 표준화 시킴\n",
    "\n",
    "pipe3 = Pipeline([[\"sc\", StandardScaler()], [\"clf\", clf3]]) # KNN 분류기를 표준화시킴\n",
    "\n",
    "clf_labels = [\"Logistic regression\", \"Decision tree\", \"KNN\"] # 분류기 네이밍\n",
    "\n",
    "print(\"10-겹 교차검증:\\n\")\n",
    "\n",
    "for clf, label in zip([pipe1, clf2, pipe3], clf_labels): # 각각의 분류기에 대해 처리를 위해 분류기에 대해 반복문을 돌림.\n",
    "    \n",
    "    scores = cross_val_score(estimator=clf,\n",
    "                             X=X_train,\n",
    "                             y= y_train,\n",
    "                             cv=10,      # 10겹\n",
    "                             scoring=\"roc_auc\") # 교차검증을 통해 점수를 평가하는 함수로 각각의 분류기에 대해 X와 y 훈련데이터를 돌려가며 roc auc() 성능을 평가\n",
    "    \n",
    "    print(\"ROC AUC : %0.2f (+/- %0.2f) [%s]\" % (scores.mean(), scores.std(), label))"
   ]
  },
  {
   "cell_type": "markdown",
   "metadata": {},
   "source": [
    "### 해석\n",
    "\n",
    "붓꽃 데이터를 기반으로 훈련데이터와 테스트 데이터를 나눠서 분류기들의 성능을 평가해보았습니다. 분류기의 종류는 총 3가지로 로지스틱 회귀 분류기, 결정트리 분류기, k-최근접 이웃 분류기입니다. 이전에 했듯이 사이킷런 내 함수를 이용해서 각 클래스에 맞는 분류기를 생성해주었습니다. 그리고 pipeline 클래스로 표준화를 시켜주고 교차검증을 통해 성능을 평가했습니다. 성능 평가의 목적은 이러한 개별 분류기들 이외에 이러한 분류기를 합쳐 다수결 방식으로 만든 앙상블의 방식이 얼마나 성능이 좋은지 평가하기 위해 이전에 성능평가를 진행한 것입니다."
   ]
  },
  {
   "cell_type": "code",
   "execution_count": 96,
   "metadata": {},
   "outputs": [
    {
     "name": "stdout",
     "output_type": "stream",
     "text": [
      "ROC AUC : 0.87 (+/- 0.17) [Logistic regression]\n",
      "ROC AUC : 0.89 (+/- 0.16) [Decision tree]\n",
      "ROC AUC : 0.88 (+/- 0.15) [KNN]\n",
      "ROC AUC : 0.94 (+/- 0.13) [Majority voting]\n"
     ]
    }
   ],
   "source": [
    "# 앙상블 성능 비교\n",
    "\n",
    "mv_clf = MajorityVoteClassifier(classifiers=[pipe1, clf2, pipe3]) # 앙상블 방식처럼 위에 사용된 3개의 분류기를 파라미터에 추가합니다.\n",
    "\n",
    "clf_labels += [\"Majority voting\"] # 분류기 이름에 다수결 앙상블 분류기 이름을 추가\n",
    "\n",
    "all_clf = [pipe1, clf2, pipe3, mv_clf] # 분류기들\n",
    "\n",
    "for clf, label in zip(all_clf, clf_labels): \n",
    "    \n",
    "    scores = cross_val_score(estimator=clf,\n",
    "                             X=X_train,\n",
    "                             y= y_train,\n",
    "                             cv=10,      # 10겹\n",
    "                             scoring=\"roc_auc\") # 위와 같이 교차검증을 통해 스코어를 기록합니다.\n",
    "    \n",
    "    print(\"ROC AUC : %0.2f (+/- %0.2f) [%s]\" % (scores.mean(), scores.std(), label))"
   ]
  },
  {
   "cell_type": "markdown",
   "metadata": {},
   "source": [
    "### 해석\n",
    "\n",
    "세 가지 분류기 말고 이번엔 다수결 투표 방식을 이용한 앙상블 분류기를 추가했습니다. 같은 방식으로 성능을 비교해보았는데 MajorityVoteClassifier의 성능이 가장 좋은 것을 확인할 수 있습니다."
   ]
  },
  {
   "cell_type": "markdown",
   "metadata": {},
   "source": [
    "# 앙상블 분류기의 평가와 튜닝"
   ]
  },
  {
   "cell_type": "code",
   "execution_count": 97,
   "metadata": {},
   "outputs": [
    {
     "data": {
      "image/png": "[encoded data removed]",
      "text/plain": [
       "<Figure size 432x288 with 1 Axes>"
      ]
     },
     "metadata": {
      "needs_background": "light"
     },
     "output_type": "display_data"
    }
   ],
   "source": [
    "colors = [\"black\", \"orange\", \"blue\", \"green\"] # 선의 색상\n",
    "linestyles = [\":\", \"--\", \"-.\", \"-\"] # 선의 모양\n",
    "\n",
    "for clf, label, clr, ls in zip(all_clf, clf_labels, colors, linestyles): \n",
    "    \n",
    "    y_pred = clf.fit(X_train, y_train).predict_proba(X_test)[:, 1] # 훈련 데이터로 학습한 모델으로 X 테스트 데이터를 이용해서 y 값을 예측\n",
    "    \n",
    "    fpr, tpr, thresholds = roc_curve(y_true=y_test, y_score=y_pred) # roc 곡선에서 x, y값을 위에서 예측한 값을 이용해서 추출\n",
    "    \n",
    "    roc_auc = auc(x=fpr, y=tpr) # roc 곡선 아래 영역(auc)에 대해 위 roc 곡선값을 통해 추출\n",
    "    plt.plot(fpr, tpr, color=clr, linestyle=ls, label=\"%s (auc = %0.2f)\" % (label, roc_auc)) # 위 데이터들을 기반으로 ROC 곡선을 그림\n",
    "\n",
    "# 기타 plot 세팅\n",
    "plt.legend(loc=\"lower right\")\n",
    "plt.plot([0 ,1], [0, 1], linestyle=\"--\", color = \"grey\", linewidth = 2)\n",
    "plt.xlim([-0.1, 1.1])\n",
    "plt.ylim([-0.1, 1.1])\n",
    "plt.grid(alpha=0.5)\n",
    "plt.xlabel(\"False positive rate (FPR)\")\n",
    "plt.ylabel(\"True positive rate (TPR)\")\n",
    "plt.show()"
   ]
  },
  {
   "cell_type": "markdown",
   "metadata": {},
   "source": [
    "### 해석\n",
    "\n",
    "MajorityVoteClassifier 의 일반화 성능을 확인하기 위해 ROC 곡선을 그려보았습니다. ROC 곡선에서 보듯이 앙상블 분류기는 데스트 데이터에서도 0.95의 수치처럼 좋은 성능을 내고 있음을 볼 수 있습니다."
   ]
  },
  {
   "cell_type": "code",
   "execution_count": 98,
   "metadata": {},
   "outputs": [
    {
     "data": {
      "image/png": "[encoded data removed]",
      "text/plain": [
       "<Figure size 504x360 with 4 Axes>"
      ]
     },
     "metadata": {
      "needs_background": "light"
     },
     "output_type": "display_data"
    }
   ],
   "source": [
    "# 앙상블 분류기의 결정 경계 비교\n",
    "\n",
    "sc = StandardScaler()\n",
    "X_train_std = sc.fit_transform(X_train)\n",
    "\n",
    "x_min = X_train_std[:, 0].min() -1 \n",
    "x_max = X_train_std[:, 0].max() +1\n",
    "y_min = X_train_std[:, 1].min() -1\n",
    "y_max = X_train_std[:, 1].max() +1\n",
    "\n",
    "xx, yy = np.meshgrid(np.arange(x_min, x_max, 0.1), np.arange(y_min, y_max, 0.1)) # x최솟값, 최댓값과 y 최솟값과 최댓값을 그리드에 배치\n",
    "\n",
    "f, axarr = plt.subplots(nrows = 2, ncols = 2, sharex = \"col\", sharey = \"row\", figsize = (7, 5)) # 그래프 4개를 배치\n",
    "\n",
    "for idx, clf, tt in zip(product([0, 1], [0, 1]), all_clf, clf_labels):\n",
    "    \n",
    "    clf.fit(X_train_std, y_train)\n",
    "    \n",
    "    Z = clf.predict(np.c_[xx.ravel(), yy.ravel()])\n",
    "    Z = Z.reshape(xx.shape)\n",
    "    \n",
    "    axarr[idx[0], idx[1]].contourf(xx, yy, Z, alpha=0.3)\n",
    "    \n",
    "    axarr[idx[0], idx[1]].scatter(X_train_std[y_train == 0, 0],\n",
    "                                 X_train_std[y_train == 0, 1],\n",
    "                                 c = \"blue\",\n",
    "                                 marker =\"^\",\n",
    "                                 s = 50)\n",
    "    \n",
    "    axarr[idx[0], idx[1]].scatter(X_train_std[y_train == 1, 0],\n",
    "                                 X_train_std[y_train == 1, 1],\n",
    "                                 c = \"green\",\n",
    "                                 marker =\"o\",\n",
    "                                 s = 50)\n",
    "    \n",
    "    axarr[idx[0], idx[1]].set_title(tt)\n",
    "\n",
    "plt.text(-3.5, -4.5, s = \"Sepal width [standardized]\", ha = \"center\", va = \"center\", fontsize =12)\n",
    "plt.text(-10.5, 4.5, s = \"Pepal length [standardized]\", ha = \"center\", va = \"center\", fontsize =12, rotation = 90)\n",
    "plt.show()"
   ]
  },
  {
   "cell_type": "code",
   "execution_count": null,
   "metadata": {},
   "outputs": [],
   "source": []
  }
 ],
 "metadata": {
  "kernelspec": {
   "display_name": "Python 3",
   "language": "python",
   "name": "python3"
  },
  "language_info": {
   "codemirror_mode": {
    "name": "ipython",
    "version": 3
   },
   "file_extension": ".py",
   "mimetype": "text/x-python",
   "name": "python",
   "nbconvert_exporter": "python",
   "pygments_lexer": "ipython3",
   "version": "3.7.4"
  }
 },
 "nbformat": 4,
 "nbformat_minor": 2
}
