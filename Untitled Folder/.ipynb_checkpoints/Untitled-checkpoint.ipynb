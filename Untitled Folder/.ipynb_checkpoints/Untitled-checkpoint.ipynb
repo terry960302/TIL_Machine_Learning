{
 "cells": [
  {
   "cell_type": "code",
   "execution_count": 21,
   "metadata": {},
   "outputs": [
    {
     "name": "stdout",
     "output_type": "stream",
     "text": [
      "       20     2\n",
      "0      60     4\n",
      "1      46     3\n",
      "2      41     2\n",
      "3      12     1\n",
      "4     137    10\n",
      "5      68     5\n",
      "6      89     5\n",
      "7       4     1\n",
      "8      32     2\n",
      "9     144     9\n",
      "10    156    10\n",
      "11     93     6\n",
      "12     36     3\n",
      "13     72     4\n",
      "14    100     8\n",
      "15    105     7\n",
      "16    131     8\n",
      "17    127    10\n",
      "18     57     4\n",
      "19     66     5\n",
      "20    101     7\n",
      "21    109     7\n",
      "22     74     5\n",
      "23    134     9\n",
      "24    112     7\n",
      "25     18     2\n",
      "26     73     5\n",
      "27    111     7\n",
      "28     96     6\n",
      "29    123     8\n",
      "30     90     5\n",
      "31     20     2\n",
      "32     28     2\n",
      "33      3     1\n",
      "34     57     4\n",
      "35     86     5\n",
      "36    132     9\n",
      "37    112     7\n",
      "38     27     1\n",
      "39    131     9\n",
      "40     34     2\n",
      "41     27     2\n",
      "42     61     4\n",
      "43     77     5\n"
     ]
    }
   ],
   "source": [
    "# 데이터 불러오기\n",
    "\n",
    "fileName = \"copier_maintenance.txt\"\n",
    "\n",
    "import pandas as pd\n",
    "\n",
    "file = pd.read_csv(fileName, sep = '\\t')\n",
    "\n",
    "print(file)"
   ]
  },
  {
   "cell_type": "code",
   "execution_count": 8,
   "metadata": {},
   "outputs": [
    {
     "name": "stdout",
     "output_type": "stream",
     "text": [
      "0.9714516516785714\n",
      "0.43103836298649584\n"
     ]
    }
   ],
   "source": [
    "# f-test\n",
    "\n",
    "from scipy.stats import f_oneway\n",
    "\n",
    "data1 = [1, 2, 3]\n",
    "data2 = [4, 546, 474]\n",
    "data3 = [23, 34, 878]\n",
    "statistic, p_value = f_oneway(data1, data2, data3)\n",
    "\n",
    "print(statistic)\n",
    "print(p_value)"
   ]
  },
  {
   "cell_type": "code",
   "execution_count": null,
   "metadata": {},
   "outputs": [],
   "source": []
  }
 ],
 "metadata": {
  "kernelspec": {
   "display_name": "Python 3",
   "language": "python",
   "name": "python3"
  },
  "language_info": {
   "codemirror_mode": {
    "name": "ipython",
    "version": 3
   },
   "file_extension": ".py",
   "mimetype": "text/x-python",
   "name": "python",
   "nbconvert_exporter": "python",
   "pygments_lexer": "ipython3",
   "version": "3.7.4"
  }
 },
 "nbformat": 4,
 "nbformat_minor": 2
}
